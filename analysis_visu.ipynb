{
  "nbformat": 4,
  "nbformat_minor": 0,
  "metadata": {
    "kernelspec": {
      "display_name": "Python 3",
      "language": "python",
      "name": "python3"
    },
    "language_info": {
      "codemirror_mode": {
        "name": "ipython",
        "version": 3
      },
      "file_extension": ".py",
      "mimetype": "text/x-python",
      "name": "python",
      "nbconvert_exporter": "python",
      "pygments_lexer": "ipython3",
      "version": "3.7.7"
    },
    "colab": {
      "name": "analysis_visu.ipynb",
      "provenance": [],
      "include_colab_link": true
    }
  },
  "cells": [
    {
      "cell_type": "markdown",
      "metadata": {
        "id": "view-in-github",
        "colab_type": "text"
      },
      "source": [
        "<a href=\"https://colab.research.google.com/github/crimsoneer/Twython_Streamer_test/blob/primary/analysis_visu.ipynb\" target=\"_parent\"><img src=\"https://colab.research.google.com/assets/colab-badge.svg\" alt=\"Open In Colab\"/></a>"
      ]
    },
    {
      "cell_type": "markdown",
      "metadata": {
        "collapsed": true,
        "pycharm": {
          "name": "#%% md\n"
        },
        "id": "uhZeZ6L5JIkv",
        "colab_type": "text"
      },
      "source": [
        "I'll use this file to analyse and visualise my collected cleaned output"
      ]
    },
    {
      "cell_type": "code",
      "metadata": {
        "pycharm": {
          "name": "#%%\n"
        },
        "id": "s2mHEq4QJIkw",
        "colab_type": "code",
        "outputId": "1d020ad0-ddaa-450e-9527-1175af14bdd2",
        "colab": {
          "base_uri": "https://localhost:8080/",
          "height": 717
        }
      },
      "source": [
        "import pandas as pd\n",
        "import numpy as np\n",
        "import matplotlib.pyplot as plt\n",
        "from matplotlib import style\n",
        "import seaborn as sns\n",
        "import plotly.express as px\n",
        "from plotly.subplots import make_subplots\n",
        "import plotly.graph_objects as go\n",
        "\n",
        "style.use('seaborn') #sets the size of the charts\n",
        "style.use('ggplot')\n",
        "all_data = pd.read_csv(\"all_data.csv\", encoding= \"ISO-8859-1\")\n",
        "cleaned_data = pd.read_csv(\"cleaned_data.csv\", encoding= \"ISO-8859-1\")\n",
        "drug_dict = pd.read_csv(\"drugs.csv\", encoding= \"ISO-8859-1\")\n",
        "no_duplicates = all_data.drop_duplicates(subset=\"unique_ref\", keep=\"last\")\n",
        "clean_no_duplicates = cleaned_data.drop_duplicates(subset=\"unique_ref\", keep=\"last\")\n",
        "\n",
        "print(\"Total count:\")\n",
        "#this is every single row, igoring how clean it is or whether it's duplicated\n",
        "print(all_data.shape)\n",
        "print(\"Clean data:\")\n",
        "#this is only data where I can estimate price\n",
        "print(cleaned_data.shape)\n",
        "print(\"Total Individual Adverts:\")\n",
        "#all the data, but without any duplicates (for instance, ad run multiple days)\n",
        "print(no_duplicates.shape)\n",
        "print(\"Clean Individual Adverts:\")\n",
        "#only single adverts with an extracted or advertised price\n",
        "print(clean_no_duplicates.shape)\n",
        "\n",
        "clean_no_duplicates.head()"
      ],
      "execution_count": 0,
      "outputs": [
        {
          "output_type": "stream",
          "text": [
            "Total count:\n",
            "(10930, 36)\n",
            "Clean data:\n",
            "(6193, 36)\n",
            "Total Individual Adverts:\n",
            "(3149, 36)\n",
            "Clean Individual Adverts:\n",
            "(1800, 36)\n"
          ],
          "name": "stdout"
        },
        {
          "output_type": "execute_result",
          "data": {
            "text/html": [
              "<div>\n",
              "<style scoped>\n",
              "    .dataframe tbody tr th:only-of-type {\n",
              "        vertical-align: middle;\n",
              "    }\n",
              "\n",
              "    .dataframe tbody tr th {\n",
              "        vertical-align: top;\n",
              "    }\n",
              "\n",
              "    .dataframe thead th {\n",
              "        text-align: right;\n",
              "    }\n",
              "</style>\n",
              "<table border=\"1\" class=\"dataframe\">\n",
              "  <thead>\n",
              "    <tr style=\"text-align: right;\">\n",
              "      <th></th>\n",
              "      <th>Unnamed: 0</th>\n",
              "      <th>index</th>\n",
              "      <th>Ã¯Â»Â¿web-scraper-order</th>\n",
              "      <th>web-scraper-start-url</th>\n",
              "      <th>name</th>\n",
              "      <th>description</th>\n",
              "      <th>price</th>\n",
              "      <th>seller</th>\n",
              "      <th>from</th>\n",
              "      <th>to</th>\n",
              "      <th>sold</th>\n",
              "      <th>link</th>\n",
              "      <th>link-href</th>\n",
              "      <th>date</th>\n",
              "      <th>unique_ref</th>\n",
              "      <th>seller name</th>\n",
              "      <th>seller reviews</th>\n",
              "      <th>seller score</th>\n",
              "      <th>Extracted views</th>\n",
              "      <th>Extracted sold</th>\n",
              "      <th>price listed</th>\n",
              "      <th>Currency</th>\n",
              "      <th>Volume</th>\n",
              "      <th>Unit of Volume</th>\n",
              "      <th>Price Per Unit</th>\n",
              "      <th>substance</th>\n",
              "      <th>extracted name</th>\n",
              "      <th>name confidence</th>\n",
              "      <th>pill quantity</th>\n",
              "      <th>price per pill</th>\n",
              "      <th>cloned</th>\n",
              "      <th>extracted weight</th>\n",
              "      <th>extracted weight unit</th>\n",
              "      <th>extracted weight number</th>\n",
              "      <th>weight in g</th>\n",
              "      <th>price per gram</th>\n",
              "    </tr>\n",
              "  </thead>\n",
              "  <tbody>\n",
              "    <tr>\n",
              "      <th>0</th>\n",
              "      <td>1</td>\n",
              "      <td>1</td>\n",
              "      <td>1587452527-12696</td>\n",
              "      <td>http://paxromanadfudhte.onion/category/1?page=101</td>\n",
              "      <td>Cloned BUY COCAINE POWDER (99% PURE)</td>\n",
              "      <td>Cocaine, also known as coke, is a strong stimu...</td>\n",
              "      <td>20.00</td>\n",
              "      <td>supremepharma(4)\\n(5.00)</td>\n",
              "      <td>USA</td>\n",
              "      <td>WW</td>\n",
              "      <td>Views: 0\\nSold: 0</td>\n",
              "      <td>Escrow \\t\\t\\t\\t\\t\\t\\t\\n\\t\\t\\t\\t\\t\\t\\t\\n\\t\\t\\t\\...</td>\n",
              "      <td>http://paxromanadfudhte.onion/listing/Q03B45rX...</td>\n",
              "      <td>2020-04-21</td>\n",
              "      <td>Cloned BUY COCAINE POWDER (99% PURE)Cocaine, a...</td>\n",
              "      <td>supremepharma</td>\n",
              "      <td>4</td>\n",
              "      <td>5.0</td>\n",
              "      <td>0</td>\n",
              "      <td>0</td>\n",
              "      <td>1 gram \\n for  20.00 USD</td>\n",
              "      <td>USD</td>\n",
              "      <td>1.0</td>\n",
              "      <td>gram</td>\n",
              "      <td>20.00</td>\n",
              "      <td>COCAINE</td>\n",
              "      <td>COCAINE</td>\n",
              "      <td>100.0</td>\n",
              "      <td>NaN</td>\n",
              "      <td>NaN</td>\n",
              "      <td>True</td>\n",
              "      <td>NaN</td>\n",
              "      <td>NaN</td>\n",
              "      <td>NaN</td>\n",
              "      <td>1.000</td>\n",
              "      <td>20.000000</td>\n",
              "    </tr>\n",
              "    <tr>\n",
              "      <th>10</th>\n",
              "      <td>14</td>\n",
              "      <td>14</td>\n",
              "      <td>1587452921-13635</td>\n",
              "      <td>http://paxromanadfudhte.onion/category/1?page=7</td>\n",
              "      <td>Best QualityAlprazolam Xanax 2mg Grade Xanax Bars</td>\n",
              "      <td>Good quality products. Good and affordable pri...</td>\n",
              "      <td>450.00</td>\n",
              "      <td>usdrill(8)\\n(5.00)</td>\n",
              "      <td>USA</td>\n",
              "      <td>WW</td>\n",
              "      <td>Views: 53\\nSold: 0</td>\n",
              "      <td>Escrow \\t\\t\\t\\t\\t\\t\\t\\n\\t\\t\\t\\t\\t\\t\\t\\n\\t\\t\\t\\...</td>\n",
              "      <td>http://paxromanadfudhte.onion/listing/ovXjqm6p...</td>\n",
              "      <td>2020-04-21</td>\n",
              "      <td>Best QualityAlprazolam Xanax 2mg Grade Xanax B...</td>\n",
              "      <td>usdrill</td>\n",
              "      <td>8</td>\n",
              "      <td>5.0</td>\n",
              "      <td>53</td>\n",
              "      <td>0</td>\n",
              "      <td>120 gram \\n for  450.00 USD</td>\n",
              "      <td>USD</td>\n",
              "      <td>120.0</td>\n",
              "      <td>gram</td>\n",
              "      <td>3.75</td>\n",
              "      <td>BENZOS</td>\n",
              "      <td>Xanax</td>\n",
              "      <td>100.0</td>\n",
              "      <td>NaN</td>\n",
              "      <td>NaN</td>\n",
              "      <td>False</td>\n",
              "      <td>2mg</td>\n",
              "      <td>mg</td>\n",
              "      <td>2.0</td>\n",
              "      <td>120.000</td>\n",
              "      <td>3.750000</td>\n",
              "    </tr>\n",
              "    <tr>\n",
              "      <th>19</th>\n",
              "      <td>24</td>\n",
              "      <td>24</td>\n",
              "      <td>1587452782-13460</td>\n",
              "      <td>http://paxromanadfudhte.onion/category/1?page=25</td>\n",
              "      <td>ÃÂ£15 RELAUNCH SALE! 20 x 3mg Xanax GREEN HUL...</td>\n",
              "      <td>After a short hiatus we are back with a new a ...</td>\n",
              "      <td>9.95</td>\n",
              "      <td>BenzoBearUK(10)\\n(5.00)</td>\n",
              "      <td>GB</td>\n",
              "      <td>GB</td>\n",
              "      <td>Views: 27\\nSold: 0</td>\n",
              "      <td>Escrow \\t\\t\\t\\t\\t\\t\\t\\n\\t\\t\\t\\t\\t\\t\\t\\n\\t\\t\\t\\...</td>\n",
              "      <td>http://paxromanadfudhte.onion/listing/R95281P3...</td>\n",
              "      <td>2020-04-21</td>\n",
              "      <td>ÃÂ£15 RELAUNCH SALE! 20 x 3mg Xanax GREEN HUL...</td>\n",
              "      <td>BenzoBearUK</td>\n",
              "      <td>10</td>\n",
              "      <td>5.0</td>\n",
              "      <td>27</td>\n",
              "      <td>0</td>\n",
              "      <td>9.95 USD</td>\n",
              "      <td>USD</td>\n",
              "      <td>3.0</td>\n",
              "      <td>mg</td>\n",
              "      <td>9.95</td>\n",
              "      <td>BENZOS</td>\n",
              "      <td>Xanax</td>\n",
              "      <td>100.0</td>\n",
              "      <td>20.0</td>\n",
              "      <td>0.4975</td>\n",
              "      <td>False</td>\n",
              "      <td>3mg</td>\n",
              "      <td>mg</td>\n",
              "      <td>3.0</td>\n",
              "      <td>0.003</td>\n",
              "      <td>3316.666667</td>\n",
              "    </tr>\n",
              "    <tr>\n",
              "      <th>20</th>\n",
              "      <td>25</td>\n",
              "      <td>25</td>\n",
              "      <td>1587452462-12426</td>\n",
              "      <td>http://paxromanadfudhte.onion/category/1?page=128</td>\n",
              "      <td>Cloned BUY SUBUTEX 8MG</td>\n",
              "      <td>Subutex is used to treat dependence/addiction ...</td>\n",
              "      <td>8.00</td>\n",
              "      <td>supremepharma(4)\\n(5.00)</td>\n",
              "      <td>USA</td>\n",
              "      <td>WW</td>\n",
              "      <td>Views: 1\\nSold: 0</td>\n",
              "      <td>Escrow \\t\\t\\t\\t\\t\\t\\t\\n\\t\\t\\t\\t\\t\\t\\t\\n\\t\\t\\t\\...</td>\n",
              "      <td>http://paxromanadfudhte.onion/listing/qv20o5lX...</td>\n",
              "      <td>2020-04-21</td>\n",
              "      <td>Cloned BUY SUBUTEX 8MGSubutex is used to treat...</td>\n",
              "      <td>supremepharma</td>\n",
              "      <td>4</td>\n",
              "      <td>5.0</td>\n",
              "      <td>1</td>\n",
              "      <td>0</td>\n",
              "      <td>8.00 USD</td>\n",
              "      <td>USD</td>\n",
              "      <td>8.0</td>\n",
              "      <td>MG</td>\n",
              "      <td>8.00</td>\n",
              "      <td>PRESCRIPTION OPIOIDS</td>\n",
              "      <td>SUBUTEX</td>\n",
              "      <td>100.0</td>\n",
              "      <td>NaN</td>\n",
              "      <td>NaN</td>\n",
              "      <td>True</td>\n",
              "      <td>8MG</td>\n",
              "      <td>MG</td>\n",
              "      <td>8.0</td>\n",
              "      <td>0.008</td>\n",
              "      <td>1000.000000</td>\n",
              "    </tr>\n",
              "    <tr>\n",
              "      <th>25</th>\n",
              "      <td>37</td>\n",
              "      <td>37</td>\n",
              "      <td>1587452366-12005</td>\n",
              "      <td>http://paxromanadfudhte.onion/category/1?page=170</td>\n",
              "      <td>Cloned 1 GRAM HIGH HEAT COLUMBIAN COCAINE HIGH...</td>\n",
              "      <td>THERE HAS BEEN A REASON THAT WE HAVE STAYED AW...</td>\n",
              "      <td>100.00</td>\n",
              "      <td>LabTested(1)\\n(5.00)</td>\n",
              "      <td>USA</td>\n",
              "      <td>WW</td>\n",
              "      <td>Views: 1\\nSold: 0</td>\n",
              "      <td>No Escrow \\t\\t\\t\\t\\t\\t\\t\\n\\t\\t\\t\\t\\t\\t\\t\\n\\t\\t...</td>\n",
              "      <td>http://paxromanadfudhte.onion/listing/7n2bezJX...</td>\n",
              "      <td>2020-04-21</td>\n",
              "      <td>Cloned 1 GRAM HIGH HEAT COLUMBIAN COCAINE HIGH...</td>\n",
              "      <td>LabTested</td>\n",
              "      <td>1</td>\n",
              "      <td>5.0</td>\n",
              "      <td>1</td>\n",
              "      <td>0</td>\n",
              "      <td>1 gram \\n for  100.00 USD</td>\n",
              "      <td>USD</td>\n",
              "      <td>1.0</td>\n",
              "      <td>gram</td>\n",
              "      <td>100.00</td>\n",
              "      <td>COCAINE</td>\n",
              "      <td>COCAINE</td>\n",
              "      <td>100.0</td>\n",
              "      <td>NaN</td>\n",
              "      <td>NaN</td>\n",
              "      <td>True</td>\n",
              "      <td>1 GRAM</td>\n",
              "      <td>GRAM</td>\n",
              "      <td>1.0</td>\n",
              "      <td>1.000</td>\n",
              "      <td>100.000000</td>\n",
              "    </tr>\n",
              "  </tbody>\n",
              "</table>\n",
              "</div>"
            ],
            "text/plain": [
              "    Unnamed: 0  index  ... weight in g price per gram\n",
              "0            1      1  ...       1.000      20.000000\n",
              "10          14     14  ...     120.000       3.750000\n",
              "19          24     24  ...       0.003    3316.666667\n",
              "20          25     25  ...       0.008    1000.000000\n",
              "25          37     37  ...       1.000     100.000000\n",
              "\n",
              "[5 rows x 36 columns]"
            ]
          },
          "metadata": {
            "tags": []
          },
          "execution_count": 2
        }
      ]
    },
    {
      "cell_type": "code",
      "metadata": {
        "pycharm": {
          "name": "#%%\n"
        },
        "id": "corAvR1aJIk1",
        "colab_type": "code",
        "colab": {}
      },
      "source": [
        "seller_columns = [\"price\", \"from\", \"to\", \"seller name\", \"seller score\", \"seller reviews\", \"Extracted views\", \"Extracted sold\", \"substance\", \"cloned\"]\n",
        "seller_df = no_duplicates[seller_columns].copy()\n",
        "\n",
        "seller_df[\"from\"] = seller_df[\"from\"].astype('category')\n",
        "seller_df[\"to\"] = seller_df[\"to\"].astype('category')\n",
        "seller_df[\"substance\"] = seller_df[\"substance\"].astype('category')\n",
        "seller_df[\"price\"] = seller_df[\"price\"].astype('float')\n",
        "seller_df[\"reviews\"] = seller_df[\"seller score\"].fillna(0).astype('int')\n",
        "seller_df[\"sold\"] = seller_df[\"Extracted sold\"].fillna(0).astype('int')\n",
        "seller_df[\"views\"] = seller_df[\"Extracted views\"].fillna(0).astype('int')\n",
        "seller_df[\"cloned\"] = seller_df[\"Extracted views\"].fillna(0).astype('bool')"
      ],
      "execution_count": 0,
      "outputs": []
    },
    {
      "cell_type": "code",
      "metadata": {
        "pycharm": {
          "name": "#%%\n"
        },
        "id": "InJxnOHYJIk4",
        "colab_type": "code",
        "outputId": "16e2cf2c-bc15-4ae2-a92e-e0818e23db1c",
        "colab": {
          "base_uri": "https://localhost:8080/",
          "height": 419
        }
      },
      "source": [
        "seller_df"
      ],
      "execution_count": 0,
      "outputs": [
        {
          "output_type": "execute_result",
          "data": {
            "text/html": [
              "<div>\n",
              "<style scoped>\n",
              "    .dataframe tbody tr th:only-of-type {\n",
              "        vertical-align: middle;\n",
              "    }\n",
              "\n",
              "    .dataframe tbody tr th {\n",
              "        vertical-align: top;\n",
              "    }\n",
              "\n",
              "    .dataframe thead th {\n",
              "        text-align: right;\n",
              "    }\n",
              "</style>\n",
              "<table border=\"1\" class=\"dataframe\">\n",
              "  <thead>\n",
              "    <tr style=\"text-align: right;\">\n",
              "      <th></th>\n",
              "      <th>price</th>\n",
              "      <th>from</th>\n",
              "      <th>to</th>\n",
              "      <th>seller name</th>\n",
              "      <th>seller score</th>\n",
              "      <th>seller reviews</th>\n",
              "      <th>Extracted views</th>\n",
              "      <th>Extracted sold</th>\n",
              "      <th>substance</th>\n",
              "      <th>cloned</th>\n",
              "      <th>reviews</th>\n",
              "      <th>sold</th>\n",
              "      <th>views</th>\n",
              "    </tr>\n",
              "  </thead>\n",
              "  <tbody>\n",
              "    <tr>\n",
              "      <th>0</th>\n",
              "      <td>20.00</td>\n",
              "      <td>USA</td>\n",
              "      <td>WW</td>\n",
              "      <td>supremepharma</td>\n",
              "      <td>5.0</td>\n",
              "      <td>4</td>\n",
              "      <td>0</td>\n",
              "      <td>0</td>\n",
              "      <td>PRESCRIPTION OPIOIDS</td>\n",
              "      <td>False</td>\n",
              "      <td>5</td>\n",
              "      <td>0</td>\n",
              "      <td>0</td>\n",
              "    </tr>\n",
              "    <tr>\n",
              "      <th>1</th>\n",
              "      <td>20.00</td>\n",
              "      <td>USA</td>\n",
              "      <td>WW</td>\n",
              "      <td>supremepharma</td>\n",
              "      <td>5.0</td>\n",
              "      <td>4</td>\n",
              "      <td>0</td>\n",
              "      <td>0</td>\n",
              "      <td>COCAINE</td>\n",
              "      <td>False</td>\n",
              "      <td>5</td>\n",
              "      <td>0</td>\n",
              "      <td>0</td>\n",
              "    </tr>\n",
              "    <tr>\n",
              "      <th>14</th>\n",
              "      <td>450.00</td>\n",
              "      <td>USA</td>\n",
              "      <td>WW</td>\n",
              "      <td>usdrill</td>\n",
              "      <td>5.0</td>\n",
              "      <td>8</td>\n",
              "      <td>53</td>\n",
              "      <td>0</td>\n",
              "      <td>BENZOS</td>\n",
              "      <td>True</td>\n",
              "      <td>5</td>\n",
              "      <td>0</td>\n",
              "      <td>53</td>\n",
              "    </tr>\n",
              "    <tr>\n",
              "      <th>24</th>\n",
              "      <td>9.95</td>\n",
              "      <td>GB</td>\n",
              "      <td>GB</td>\n",
              "      <td>BenzoBearUK</td>\n",
              "      <td>5.0</td>\n",
              "      <td>10</td>\n",
              "      <td>27</td>\n",
              "      <td>0</td>\n",
              "      <td>BENZOS</td>\n",
              "      <td>True</td>\n",
              "      <td>5</td>\n",
              "      <td>0</td>\n",
              "      <td>27</td>\n",
              "    </tr>\n",
              "    <tr>\n",
              "      <th>25</th>\n",
              "      <td>8.00</td>\n",
              "      <td>USA</td>\n",
              "      <td>WW</td>\n",
              "      <td>supremepharma</td>\n",
              "      <td>5.0</td>\n",
              "      <td>4</td>\n",
              "      <td>1</td>\n",
              "      <td>0</td>\n",
              "      <td>PRESCRIPTION OPIOIDS</td>\n",
              "      <td>True</td>\n",
              "      <td>5</td>\n",
              "      <td>0</td>\n",
              "      <td>1</td>\n",
              "    </tr>\n",
              "    <tr>\n",
              "      <th>...</th>\n",
              "      <td>...</td>\n",
              "      <td>...</td>\n",
              "      <td>...</td>\n",
              "      <td>...</td>\n",
              "      <td>...</td>\n",
              "      <td>...</td>\n",
              "      <td>...</td>\n",
              "      <td>...</td>\n",
              "      <td>...</td>\n",
              "      <td>...</td>\n",
              "      <td>...</td>\n",
              "      <td>...</td>\n",
              "      <td>...</td>\n",
              "    </tr>\n",
              "    <tr>\n",
              "      <th>10925</th>\n",
              "      <td>310.00</td>\n",
              "      <td>USA</td>\n",
              "      <td>WW</td>\n",
              "      <td>UStoUS</td>\n",
              "      <td>5.0</td>\n",
              "      <td>3</td>\n",
              "      <td>8</td>\n",
              "      <td>0</td>\n",
              "      <td>COCAINE</td>\n",
              "      <td>True</td>\n",
              "      <td>5</td>\n",
              "      <td>0</td>\n",
              "      <td>8</td>\n",
              "    </tr>\n",
              "    <tr>\n",
              "      <th>10926</th>\n",
              "      <td>190.00</td>\n",
              "      <td>USA</td>\n",
              "      <td>USA</td>\n",
              "      <td>DaDankStore</td>\n",
              "      <td>5.0</td>\n",
              "      <td>0</td>\n",
              "      <td>59</td>\n",
              "      <td>0</td>\n",
              "      <td>MARIJUANA</td>\n",
              "      <td>True</td>\n",
              "      <td>5</td>\n",
              "      <td>0</td>\n",
              "      <td>59</td>\n",
              "    </tr>\n",
              "    <tr>\n",
              "      <th>10927</th>\n",
              "      <td>350.00</td>\n",
              "      <td>USA</td>\n",
              "      <td>WW</td>\n",
              "      <td>pharmawebking2</td>\n",
              "      <td>5.0</td>\n",
              "      <td>1</td>\n",
              "      <td>12</td>\n",
              "      <td>0</td>\n",
              "      <td>PRESCRIPTION OPIOIDS</td>\n",
              "      <td>True</td>\n",
              "      <td>5</td>\n",
              "      <td>0</td>\n",
              "      <td>12</td>\n",
              "    </tr>\n",
              "    <tr>\n",
              "      <th>10928</th>\n",
              "      <td>2.65</td>\n",
              "      <td>NL</td>\n",
              "      <td>WW</td>\n",
              "      <td>Wvanoranje</td>\n",
              "      <td>5.0</td>\n",
              "      <td>46</td>\n",
              "      <td>364</td>\n",
              "      <td>14</td>\n",
              "      <td>MESCALINE</td>\n",
              "      <td>True</td>\n",
              "      <td>5</td>\n",
              "      <td>14</td>\n",
              "      <td>364</td>\n",
              "    </tr>\n",
              "    <tr>\n",
              "      <th>10929</th>\n",
              "      <td>29160.00</td>\n",
              "      <td>NL</td>\n",
              "      <td>WW, USA, AU</td>\n",
              "      <td>WeAreAMSTERDAM</td>\n",
              "      <td>5.0</td>\n",
              "      <td>136</td>\n",
              "      <td>28</td>\n",
              "      <td>0</td>\n",
              "      <td>COCAINE</td>\n",
              "      <td>True</td>\n",
              "      <td>5</td>\n",
              "      <td>0</td>\n",
              "      <td>28</td>\n",
              "    </tr>\n",
              "  </tbody>\n",
              "</table>\n",
              "<p>3149 rows × 13 columns</p>\n",
              "</div>"
            ],
            "text/plain": [
              "          price from           to     seller name  ...  cloned  reviews  sold  views\n",
              "0         20.00  USA           WW   supremepharma  ...   False        5     0      0\n",
              "1         20.00  USA           WW   supremepharma  ...   False        5     0      0\n",
              "14       450.00  USA           WW         usdrill  ...    True        5     0     53\n",
              "24         9.95   GB           GB     BenzoBearUK  ...    True        5     0     27\n",
              "25         8.00  USA           WW   supremepharma  ...    True        5     0      1\n",
              "...         ...  ...          ...             ...  ...     ...      ...   ...    ...\n",
              "10925    310.00  USA           WW          UStoUS  ...    True        5     0      8\n",
              "10926    190.00  USA          USA     DaDankStore  ...    True        5     0     59\n",
              "10927    350.00  USA           WW  pharmawebking2  ...    True        5     0     12\n",
              "10928      2.65   NL           WW      Wvanoranje  ...    True        5    14    364\n",
              "10929  29160.00   NL  WW, USA, AU  WeAreAMSTERDAM  ...    True        5     0     28\n",
              "\n",
              "[3149 rows x 13 columns]"
            ]
          },
          "metadata": {
            "tags": []
          },
          "execution_count": 4
        }
      ]
    },
    {
      "cell_type": "code",
      "metadata": {
        "pycharm": {
          "name": "#%%\n"
        },
        "id": "FJWdYru7JIk7",
        "colab_type": "code",
        "colab": {}
      },
      "source": [
        "def count_of_unique(x):\n",
        "    list_of_uniques = np.unique(x)\n",
        "    return len(list_of_uniques)\n",
        "\n",
        "seller_list = seller_df.groupby([\"seller name\"]).agg(\n",
        "    average_price = (\"price\", np.mean),\n",
        "    review_score = (\"reviews\", np.mean),\n",
        "    advert_count = (\"substance\", len),\n",
        "    total_views = (\"views\", sum),\n",
        "    total_sales = (\"sold\", sum),\n",
        "    substances_sold= (\"substance\", count_of_unique),\n",
        "    cloned_count = (\"cloned\", sum)\n",
        ")"
      ],
      "execution_count": 0,
      "outputs": []
    },
    {
      "cell_type": "code",
      "metadata": {
        "pycharm": {
          "name": "#%%\n"
        },
        "id": "SA8MPNpAJIk9",
        "colab_type": "code",
        "outputId": "cf226472-70a2-4453-cd97-4db6b23b58cf",
        "colab": {
          "base_uri": "https://localhost:8080/",
          "height": 204
        }
      },
      "source": [
        "'''def new_views(x):\n",
        "    total_views = sum(x)\n",
        "    first_view = x[0]\n",
        "    new_count = total_views - first_view\n",
        "    return new_count\n",
        "\n",
        "def first_view(x):\n",
        "    total_views = sum(x)\n",
        "    first_view_count = x[0]\n",
        "    return first_view_count'''\n",
        "\n",
        "unique_sales = all_data.groupby([\"unique_ref\", \"substance\", \"price\"]).agg(\n",
        "    days_run = (\"name\", len),\n",
        "    total_views = (\"Extracted views\", sum),\n",
        "    first_view_count = (\"Extracted views\", min),\n",
        "    total_sales = (\"Extracted sold\", sum),\n",
        "    first_sales_count = (\"Extracted sold\", min)\n",
        ")\n",
        "\n",
        "unique_sales[\"new_sales\"] = unique_sales[\"total_sales\"] - unique_sales[\"first_sales_count\"]\n",
        "unique_sales[\"sales_per_day\"] = unique_sales[\"new_sales\"] / unique_sales[\"days_run\"]\n",
        "unique_sales[\"new_views\"] = unique_sales[\"total_views\"] - unique_sales[\"first_view_count\"]\n",
        "unique_sales[\"views_per_day\"] = unique_sales[\"new_views\"] / unique_sales[\"days_run\"]\n",
        "\n",
        "unique_sales = unique_sales.reset_index()\n",
        "\n",
        "unique_sales.head()"
      ],
      "execution_count": 0,
      "outputs": [
        {
          "output_type": "execute_result",
          "data": {
            "text/html": [
              "<div>\n",
              "<style scoped>\n",
              "    .dataframe tbody tr th:only-of-type {\n",
              "        vertical-align: middle;\n",
              "    }\n",
              "\n",
              "    .dataframe tbody tr th {\n",
              "        vertical-align: top;\n",
              "    }\n",
              "\n",
              "    .dataframe thead th {\n",
              "        text-align: right;\n",
              "    }\n",
              "</style>\n",
              "<table border=\"1\" class=\"dataframe\">\n",
              "  <thead>\n",
              "    <tr style=\"text-align: right;\">\n",
              "      <th></th>\n",
              "      <th>unique_ref</th>\n",
              "      <th>substance</th>\n",
              "      <th>price</th>\n",
              "      <th>days_run</th>\n",
              "      <th>total_views</th>\n",
              "      <th>first_view_count</th>\n",
              "      <th>total_sales</th>\n",
              "      <th>first_sales_count</th>\n",
              "      <th>new_sales</th>\n",
              "      <th>sales_per_day</th>\n",
              "      <th>new_views</th>\n",
              "      <th>views_per_day</th>\n",
              "    </tr>\n",
              "  </thead>\n",
              "  <tbody>\n",
              "    <tr>\n",
              "      <th>0</th>\n",
              "      <td>#0.5GR #SALE || COKE COLOMBIAN 91% || USA AUS ...</td>\n",
              "      <td>COCAINE</td>\n",
              "      <td>37.70</td>\n",
              "      <td>1</td>\n",
              "      <td>150</td>\n",
              "      <td>150</td>\n",
              "      <td>2</td>\n",
              "      <td>2</td>\n",
              "      <td>0</td>\n",
              "      <td>0.0</td>\n",
              "      <td>0</td>\n",
              "      <td>0.0</td>\n",
              "    </tr>\n",
              "    <tr>\n",
              "      <th>1</th>\n",
              "      <td>#0.5GR #SALE || COKE COLOMBIAN 91% || USA AUS ...</td>\n",
              "      <td>COCAINE</td>\n",
              "      <td>37.80</td>\n",
              "      <td>1</td>\n",
              "      <td>152</td>\n",
              "      <td>152</td>\n",
              "      <td>2</td>\n",
              "      <td>2</td>\n",
              "      <td>0</td>\n",
              "      <td>0.0</td>\n",
              "      <td>0</td>\n",
              "      <td>0.0</td>\n",
              "    </tr>\n",
              "    <tr>\n",
              "      <th>2</th>\n",
              "      <td>#0.5GR #SALE || COKE COLOMBIAN 91% || USA AUS ...</td>\n",
              "      <td>COCAINE</td>\n",
              "      <td>37.93</td>\n",
              "      <td>1</td>\n",
              "      <td>142</td>\n",
              "      <td>142</td>\n",
              "      <td>2</td>\n",
              "      <td>2</td>\n",
              "      <td>0</td>\n",
              "      <td>0.0</td>\n",
              "      <td>0</td>\n",
              "      <td>0.0</td>\n",
              "    </tr>\n",
              "    <tr>\n",
              "      <th>3</th>\n",
              "      <td>#0.5GR #SALE || COKE COLOMBIAN 91% || USA AUS ...</td>\n",
              "      <td>COCAINE</td>\n",
              "      <td>38.01</td>\n",
              "      <td>1</td>\n",
              "      <td>127</td>\n",
              "      <td>127</td>\n",
              "      <td>2</td>\n",
              "      <td>2</td>\n",
              "      <td>0</td>\n",
              "      <td>0.0</td>\n",
              "      <td>0</td>\n",
              "      <td>0.0</td>\n",
              "    </tr>\n",
              "    <tr>\n",
              "      <th>4</th>\n",
              "      <td>#0.5GR #SALE || COKE COLOMBIAN 91% || USA AUS ...</td>\n",
              "      <td>COCAINE</td>\n",
              "      <td>38.03</td>\n",
              "      <td>1</td>\n",
              "      <td>149</td>\n",
              "      <td>149</td>\n",
              "      <td>2</td>\n",
              "      <td>2</td>\n",
              "      <td>0</td>\n",
              "      <td>0.0</td>\n",
              "      <td>0</td>\n",
              "      <td>0.0</td>\n",
              "    </tr>\n",
              "  </tbody>\n",
              "</table>\n",
              "</div>"
            ],
            "text/plain": [
              "                                          unique_ref  ... views_per_day\n",
              "0  #0.5GR #SALE || COKE COLOMBIAN 91% || USA AUS ...  ...           0.0\n",
              "1  #0.5GR #SALE || COKE COLOMBIAN 91% || USA AUS ...  ...           0.0\n",
              "2  #0.5GR #SALE || COKE COLOMBIAN 91% || USA AUS ...  ...           0.0\n",
              "3  #0.5GR #SALE || COKE COLOMBIAN 91% || USA AUS ...  ...           0.0\n",
              "4  #0.5GR #SALE || COKE COLOMBIAN 91% || USA AUS ...  ...           0.0\n",
              "\n",
              "[5 rows x 12 columns]"
            ]
          },
          "metadata": {
            "tags": []
          },
          "execution_count": 6
        }
      ]
    },
    {
      "cell_type": "code",
      "metadata": {
        "pycharm": {
          "name": "#%%\n"
        },
        "id": "sIQTfA8MJIk_",
        "colab_type": "code",
        "outputId": "f3a18d22-2e3f-4854-8d9b-ee7b319afba7",
        "colab": {
          "base_uri": "https://localhost:8080/",
          "height": 297
        }
      },
      "source": [
        "unique_sales.describe()"
      ],
      "execution_count": 0,
      "outputs": [
        {
          "output_type": "execute_result",
          "data": {
            "text/html": [
              "<div>\n",
              "<style scoped>\n",
              "    .dataframe tbody tr th:only-of-type {\n",
              "        vertical-align: middle;\n",
              "    }\n",
              "\n",
              "    .dataframe tbody tr th {\n",
              "        vertical-align: top;\n",
              "    }\n",
              "\n",
              "    .dataframe thead th {\n",
              "        text-align: right;\n",
              "    }\n",
              "</style>\n",
              "<table border=\"1\" class=\"dataframe\">\n",
              "  <thead>\n",
              "    <tr style=\"text-align: right;\">\n",
              "      <th></th>\n",
              "      <th>price</th>\n",
              "      <th>days_run</th>\n",
              "      <th>total_views</th>\n",
              "      <th>first_view_count</th>\n",
              "      <th>total_sales</th>\n",
              "      <th>first_sales_count</th>\n",
              "      <th>new_sales</th>\n",
              "      <th>sales_per_day</th>\n",
              "      <th>new_views</th>\n",
              "      <th>views_per_day</th>\n",
              "    </tr>\n",
              "  </thead>\n",
              "  <tbody>\n",
              "    <tr>\n",
              "      <th>count</th>\n",
              "      <td>6048.000000</td>\n",
              "      <td>6048.000000</td>\n",
              "      <td>6048.000000</td>\n",
              "      <td>6048.000000</td>\n",
              "      <td>6048.000000</td>\n",
              "      <td>6048.000000</td>\n",
              "      <td>6048.000000</td>\n",
              "      <td>6048.000000</td>\n",
              "      <td>6048.000000</td>\n",
              "      <td>6048.000000</td>\n",
              "    </tr>\n",
              "    <tr>\n",
              "      <th>mean</th>\n",
              "      <td>608.685488</td>\n",
              "      <td>1.807209</td>\n",
              "      <td>47.342427</td>\n",
              "      <td>28.211640</td>\n",
              "      <td>0.494544</td>\n",
              "      <td>0.343419</td>\n",
              "      <td>0.151124</td>\n",
              "      <td>0.036384</td>\n",
              "      <td>19.130787</td>\n",
              "      <td>4.458014</td>\n",
              "    </tr>\n",
              "    <tr>\n",
              "      <th>std</th>\n",
              "      <td>2835.480950</td>\n",
              "      <td>1.465168</td>\n",
              "      <td>125.342766</td>\n",
              "      <td>65.157741</td>\n",
              "      <td>2.396866</td>\n",
              "      <td>1.319212</td>\n",
              "      <td>1.659839</td>\n",
              "      <td>0.402746</td>\n",
              "      <td>90.790089</td>\n",
              "      <td>22.291000</td>\n",
              "    </tr>\n",
              "    <tr>\n",
              "      <th>min</th>\n",
              "      <td>0.110000</td>\n",
              "      <td>1.000000</td>\n",
              "      <td>0.000000</td>\n",
              "      <td>0.000000</td>\n",
              "      <td>0.000000</td>\n",
              "      <td>0.000000</td>\n",
              "      <td>0.000000</td>\n",
              "      <td>0.000000</td>\n",
              "      <td>0.000000</td>\n",
              "      <td>0.000000</td>\n",
              "    </tr>\n",
              "    <tr>\n",
              "      <th>25%</th>\n",
              "      <td>31.080000</td>\n",
              "      <td>1.000000</td>\n",
              "      <td>10.000000</td>\n",
              "      <td>4.000000</td>\n",
              "      <td>0.000000</td>\n",
              "      <td>0.000000</td>\n",
              "      <td>0.000000</td>\n",
              "      <td>0.000000</td>\n",
              "      <td>0.000000</td>\n",
              "      <td>0.000000</td>\n",
              "    </tr>\n",
              "    <tr>\n",
              "      <th>50%</th>\n",
              "      <td>120.000000</td>\n",
              "      <td>1.000000</td>\n",
              "      <td>21.000000</td>\n",
              "      <td>14.000000</td>\n",
              "      <td>0.000000</td>\n",
              "      <td>0.000000</td>\n",
              "      <td>0.000000</td>\n",
              "      <td>0.000000</td>\n",
              "      <td>0.000000</td>\n",
              "      <td>0.000000</td>\n",
              "    </tr>\n",
              "    <tr>\n",
              "      <th>75%</th>\n",
              "      <td>377.020000</td>\n",
              "      <td>2.000000</td>\n",
              "      <td>42.000000</td>\n",
              "      <td>29.000000</td>\n",
              "      <td>0.000000</td>\n",
              "      <td>0.000000</td>\n",
              "      <td>0.000000</td>\n",
              "      <td>0.000000</td>\n",
              "      <td>2.000000</td>\n",
              "      <td>1.000000</td>\n",
              "    </tr>\n",
              "    <tr>\n",
              "      <th>max</th>\n",
              "      <td>168735.000000</td>\n",
              "      <td>6.000000</td>\n",
              "      <td>3626.000000</td>\n",
              "      <td>1203.000000</td>\n",
              "      <td>61.000000</td>\n",
              "      <td>20.000000</td>\n",
              "      <td>52.000000</td>\n",
              "      <td>13.000000</td>\n",
              "      <td>2864.000000</td>\n",
              "      <td>716.000000</td>\n",
              "    </tr>\n",
              "  </tbody>\n",
              "</table>\n",
              "</div>"
            ],
            "text/plain": [
              "               price     days_run  ...    new_views  views_per_day\n",
              "count    6048.000000  6048.000000  ...  6048.000000    6048.000000\n",
              "mean      608.685488     1.807209  ...    19.130787       4.458014\n",
              "std      2835.480950     1.465168  ...    90.790089      22.291000\n",
              "min         0.110000     1.000000  ...     0.000000       0.000000\n",
              "25%        31.080000     1.000000  ...     0.000000       0.000000\n",
              "50%       120.000000     1.000000  ...     0.000000       0.000000\n",
              "75%       377.020000     2.000000  ...     2.000000       1.000000\n",
              "max    168735.000000     6.000000  ...  2864.000000     716.000000\n",
              "\n",
              "[8 rows x 10 columns]"
            ]
          },
          "metadata": {
            "tags": []
          },
          "execution_count": 7
        }
      ]
    },
    {
      "cell_type": "code",
      "metadata": {
        "pycharm": {
          "name": "#%%\n"
        },
        "id": "VTjr8oP-JIlC",
        "colab_type": "code",
        "colab": {}
      },
      "source": [
        "substance_daily_breakdown = unique_sales.groupby([\"substance\"]).mean()\n"
      ],
      "execution_count": 0,
      "outputs": []
    },
    {
      "cell_type": "code",
      "metadata": {
        "pycharm": {
          "name": "#%%\n"
        },
        "id": "bpOpJW08JIlF",
        "colab_type": "code",
        "outputId": "c20a478a-2001-420c-d472-431050f5ce5c",
        "colab": {
          "base_uri": "https://localhost:8080/",
          "height": 700
        }
      },
      "source": [
        "substance_daily_breakdown\n"
      ],
      "execution_count": 0,
      "outputs": [
        {
          "output_type": "execute_result",
          "data": {
            "text/html": [
              "<div>\n",
              "<style scoped>\n",
              "    .dataframe tbody tr th:only-of-type {\n",
              "        vertical-align: middle;\n",
              "    }\n",
              "\n",
              "    .dataframe tbody tr th {\n",
              "        vertical-align: top;\n",
              "    }\n",
              "\n",
              "    .dataframe thead th {\n",
              "        text-align: right;\n",
              "    }\n",
              "</style>\n",
              "<table border=\"1\" class=\"dataframe\">\n",
              "  <thead>\n",
              "    <tr style=\"text-align: right;\">\n",
              "      <th></th>\n",
              "      <th>price</th>\n",
              "      <th>days_run</th>\n",
              "      <th>total_views</th>\n",
              "      <th>first_view_count</th>\n",
              "      <th>total_sales</th>\n",
              "      <th>first_sales_count</th>\n",
              "      <th>new_sales</th>\n",
              "      <th>sales_per_day</th>\n",
              "      <th>new_views</th>\n",
              "      <th>views_per_day</th>\n",
              "    </tr>\n",
              "    <tr>\n",
              "      <th>substance</th>\n",
              "      <th></th>\n",
              "      <th></th>\n",
              "      <th></th>\n",
              "      <th></th>\n",
              "      <th></th>\n",
              "      <th></th>\n",
              "      <th></th>\n",
              "      <th></th>\n",
              "      <th></th>\n",
              "      <th></th>\n",
              "    </tr>\n",
              "  </thead>\n",
              "  <tbody>\n",
              "    <tr>\n",
              "      <th>ADDERALL</th>\n",
              "      <td>247.784646</td>\n",
              "      <td>3.383838</td>\n",
              "      <td>68.121212</td>\n",
              "      <td>18.656566</td>\n",
              "      <td>0.282828</td>\n",
              "      <td>0.070707</td>\n",
              "      <td>0.212121</td>\n",
              "      <td>0.045118</td>\n",
              "      <td>49.464646</td>\n",
              "      <td>11.360774</td>\n",
              "    </tr>\n",
              "    <tr>\n",
              "      <th>AMPHETAMINE</th>\n",
              "      <td>468.097149</td>\n",
              "      <td>1.154971</td>\n",
              "      <td>36.299708</td>\n",
              "      <td>32.353801</td>\n",
              "      <td>0.507310</td>\n",
              "      <td>0.454678</td>\n",
              "      <td>0.052632</td>\n",
              "      <td>0.015789</td>\n",
              "      <td>3.945906</td>\n",
              "      <td>1.070736</td>\n",
              "    </tr>\n",
              "    <tr>\n",
              "      <th>ANABOLIC STEROIDS</th>\n",
              "      <td>290.218261</td>\n",
              "      <td>3.173913</td>\n",
              "      <td>66.869565</td>\n",
              "      <td>25.913043</td>\n",
              "      <td>0.000000</td>\n",
              "      <td>0.000000</td>\n",
              "      <td>0.000000</td>\n",
              "      <td>0.000000</td>\n",
              "      <td>40.956522</td>\n",
              "      <td>8.390580</td>\n",
              "    </tr>\n",
              "    <tr>\n",
              "      <th>BENZOS</th>\n",
              "      <td>197.576688</td>\n",
              "      <td>1.870488</td>\n",
              "      <td>50.411890</td>\n",
              "      <td>31.074310</td>\n",
              "      <td>0.520170</td>\n",
              "      <td>0.409766</td>\n",
              "      <td>0.110403</td>\n",
              "      <td>0.026115</td>\n",
              "      <td>19.337580</td>\n",
              "      <td>4.520524</td>\n",
              "    </tr>\n",
              "    <tr>\n",
              "      <th>COCAINE</th>\n",
              "      <td>1267.894970</td>\n",
              "      <td>1.983234</td>\n",
              "      <td>53.859880</td>\n",
              "      <td>30.857485</td>\n",
              "      <td>0.585629</td>\n",
              "      <td>0.356886</td>\n",
              "      <td>0.228743</td>\n",
              "      <td>0.050878</td>\n",
              "      <td>23.002395</td>\n",
              "      <td>5.230020</td>\n",
              "    </tr>\n",
              "    <tr>\n",
              "      <th>FENTANYL</th>\n",
              "      <td>370.634853</td>\n",
              "      <td>3.970588</td>\n",
              "      <td>53.544118</td>\n",
              "      <td>8.558824</td>\n",
              "      <td>0.235294</td>\n",
              "      <td>0.044118</td>\n",
              "      <td>0.191176</td>\n",
              "      <td>0.042647</td>\n",
              "      <td>44.985294</td>\n",
              "      <td>10.018627</td>\n",
              "    </tr>\n",
              "    <tr>\n",
              "      <th>GHB</th>\n",
              "      <td>183.236997</td>\n",
              "      <td>1.177843</td>\n",
              "      <td>29.746356</td>\n",
              "      <td>26.026239</td>\n",
              "      <td>0.303207</td>\n",
              "      <td>0.297376</td>\n",
              "      <td>0.005831</td>\n",
              "      <td>0.002915</td>\n",
              "      <td>3.720117</td>\n",
              "      <td>0.895578</td>\n",
              "    </tr>\n",
              "    <tr>\n",
              "      <th>HEROIN</th>\n",
              "      <td>762.867247</td>\n",
              "      <td>2.505618</td>\n",
              "      <td>62.679775</td>\n",
              "      <td>21.252809</td>\n",
              "      <td>0.629213</td>\n",
              "      <td>0.241573</td>\n",
              "      <td>0.387640</td>\n",
              "      <td>0.080712</td>\n",
              "      <td>41.426966</td>\n",
              "      <td>8.650749</td>\n",
              "    </tr>\n",
              "    <tr>\n",
              "      <th>KETAMINE</th>\n",
              "      <td>1186.505962</td>\n",
              "      <td>1.781250</td>\n",
              "      <td>31.096154</td>\n",
              "      <td>17.526442</td>\n",
              "      <td>0.276442</td>\n",
              "      <td>0.240385</td>\n",
              "      <td>0.036058</td>\n",
              "      <td>0.007212</td>\n",
              "      <td>13.569712</td>\n",
              "      <td>2.944591</td>\n",
              "    </tr>\n",
              "    <tr>\n",
              "      <th>LSD</th>\n",
              "      <td>448.996943</td>\n",
              "      <td>1.291429</td>\n",
              "      <td>61.545714</td>\n",
              "      <td>45.628571</td>\n",
              "      <td>0.865714</td>\n",
              "      <td>0.682857</td>\n",
              "      <td>0.182857</td>\n",
              "      <td>0.066857</td>\n",
              "      <td>15.917143</td>\n",
              "      <td>5.113333</td>\n",
              "    </tr>\n",
              "    <tr>\n",
              "      <th>MARIJUANA</th>\n",
              "      <td>349.763390</td>\n",
              "      <td>1.957841</td>\n",
              "      <td>55.924115</td>\n",
              "      <td>28.978078</td>\n",
              "      <td>0.443508</td>\n",
              "      <td>0.271501</td>\n",
              "      <td>0.172007</td>\n",
              "      <td>0.038954</td>\n",
              "      <td>26.946037</td>\n",
              "      <td>5.946009</td>\n",
              "    </tr>\n",
              "    <tr>\n",
              "      <th>MDMA</th>\n",
              "      <td>666.721555</td>\n",
              "      <td>1.421659</td>\n",
              "      <td>51.514977</td>\n",
              "      <td>38.482719</td>\n",
              "      <td>0.637097</td>\n",
              "      <td>0.502304</td>\n",
              "      <td>0.134793</td>\n",
              "      <td>0.039343</td>\n",
              "      <td>13.032258</td>\n",
              "      <td>3.601863</td>\n",
              "    </tr>\n",
              "    <tr>\n",
              "      <th>MESCALINE</th>\n",
              "      <td>240.028814</td>\n",
              "      <td>1.966102</td>\n",
              "      <td>71.796610</td>\n",
              "      <td>33.016949</td>\n",
              "      <td>1.203390</td>\n",
              "      <td>0.322034</td>\n",
              "      <td>0.881356</td>\n",
              "      <td>0.176271</td>\n",
              "      <td>38.779661</td>\n",
              "      <td>7.811864</td>\n",
              "    </tr>\n",
              "    <tr>\n",
              "      <th>METHAMPHETAMINE</th>\n",
              "      <td>1023.891434</td>\n",
              "      <td>1.523297</td>\n",
              "      <td>38.322581</td>\n",
              "      <td>23.931900</td>\n",
              "      <td>0.369176</td>\n",
              "      <td>0.304659</td>\n",
              "      <td>0.064516</td>\n",
              "      <td>0.011828</td>\n",
              "      <td>14.390681</td>\n",
              "      <td>3.156153</td>\n",
              "    </tr>\n",
              "    <tr>\n",
              "      <th>MUSHROOMS</th>\n",
              "      <td>419.140000</td>\n",
              "      <td>2.600000</td>\n",
              "      <td>97.900000</td>\n",
              "      <td>16.600000</td>\n",
              "      <td>0.400000</td>\n",
              "      <td>0.000000</td>\n",
              "      <td>0.400000</td>\n",
              "      <td>0.080000</td>\n",
              "      <td>81.300000</td>\n",
              "      <td>16.865000</td>\n",
              "    </tr>\n",
              "    <tr>\n",
              "      <th>OPIUM</th>\n",
              "      <td>183.926885</td>\n",
              "      <td>1.196721</td>\n",
              "      <td>34.245902</td>\n",
              "      <td>31.885246</td>\n",
              "      <td>0.540984</td>\n",
              "      <td>0.540984</td>\n",
              "      <td>0.000000</td>\n",
              "      <td>0.000000</td>\n",
              "      <td>2.360656</td>\n",
              "      <td>0.472131</td>\n",
              "    </tr>\n",
              "    <tr>\n",
              "      <th>PCP</th>\n",
              "      <td>303.095254</td>\n",
              "      <td>2.474576</td>\n",
              "      <td>72.949153</td>\n",
              "      <td>19.627119</td>\n",
              "      <td>1.338983</td>\n",
              "      <td>0.322034</td>\n",
              "      <td>1.016949</td>\n",
              "      <td>0.203390</td>\n",
              "      <td>53.322034</td>\n",
              "      <td>11.145763</td>\n",
              "    </tr>\n",
              "    <tr>\n",
              "      <th>PRESCRIPTION OPIOIDS</th>\n",
              "      <td>179.130498</td>\n",
              "      <td>2.613402</td>\n",
              "      <td>34.070447</td>\n",
              "      <td>9.008591</td>\n",
              "      <td>0.154639</td>\n",
              "      <td>0.025773</td>\n",
              "      <td>0.128866</td>\n",
              "      <td>0.026947</td>\n",
              "      <td>25.061856</td>\n",
              "      <td>5.524628</td>\n",
              "    </tr>\n",
              "    <tr>\n",
              "      <th>ROHYPNOL</th>\n",
              "      <td>1177.288235</td>\n",
              "      <td>2.544118</td>\n",
              "      <td>72.352941</td>\n",
              "      <td>19.852941</td>\n",
              "      <td>0.529412</td>\n",
              "      <td>0.191176</td>\n",
              "      <td>0.338235</td>\n",
              "      <td>0.086765</td>\n",
              "      <td>52.500000</td>\n",
              "      <td>11.613235</td>\n",
              "    </tr>\n",
              "    <tr>\n",
              "      <th>SALVIA</th>\n",
              "      <td>30.500000</td>\n",
              "      <td>3.500000</td>\n",
              "      <td>47.000000</td>\n",
              "      <td>11.000000</td>\n",
              "      <td>0.000000</td>\n",
              "      <td>0.000000</td>\n",
              "      <td>0.000000</td>\n",
              "      <td>0.000000</td>\n",
              "      <td>36.000000</td>\n",
              "      <td>9.450000</td>\n",
              "    </tr>\n",
              "  </tbody>\n",
              "</table>\n",
              "</div>"
            ],
            "text/plain": [
              "                            price  days_run  ...  new_views  views_per_day\n",
              "substance                                    ...                          \n",
              "ADDERALL               247.784646  3.383838  ...  49.464646      11.360774\n",
              "AMPHETAMINE            468.097149  1.154971  ...   3.945906       1.070736\n",
              "ANABOLIC STEROIDS      290.218261  3.173913  ...  40.956522       8.390580\n",
              "BENZOS                 197.576688  1.870488  ...  19.337580       4.520524\n",
              "COCAINE               1267.894970  1.983234  ...  23.002395       5.230020\n",
              "FENTANYL               370.634853  3.970588  ...  44.985294      10.018627\n",
              "GHB                    183.236997  1.177843  ...   3.720117       0.895578\n",
              "HEROIN                 762.867247  2.505618  ...  41.426966       8.650749\n",
              "KETAMINE              1186.505962  1.781250  ...  13.569712       2.944591\n",
              "LSD                    448.996943  1.291429  ...  15.917143       5.113333\n",
              "MARIJUANA              349.763390  1.957841  ...  26.946037       5.946009\n",
              "MDMA                   666.721555  1.421659  ...  13.032258       3.601863\n",
              "MESCALINE              240.028814  1.966102  ...  38.779661       7.811864\n",
              "METHAMPHETAMINE       1023.891434  1.523297  ...  14.390681       3.156153\n",
              "MUSHROOMS              419.140000  2.600000  ...  81.300000      16.865000\n",
              "OPIUM                  183.926885  1.196721  ...   2.360656       0.472131\n",
              "PCP                    303.095254  2.474576  ...  53.322034      11.145763\n",
              "PRESCRIPTION OPIOIDS   179.130498  2.613402  ...  25.061856       5.524628\n",
              "ROHYPNOL              1177.288235  2.544118  ...  52.500000      11.613235\n",
              "SALVIA                  30.500000  3.500000  ...  36.000000       9.450000\n",
              "\n",
              "[20 rows x 10 columns]"
            ]
          },
          "metadata": {
            "tags": []
          },
          "execution_count": 9
        }
      ]
    },
    {
      "cell_type": "code",
      "metadata": {
        "pycharm": {
          "name": "#%%\n"
        },
        "id": "nuw-aXSHJIlH",
        "colab_type": "code",
        "outputId": "bccc8403-5e04-4cd8-9a9b-c68aaf877d26",
        "colab": {
          "base_uri": "https://localhost:8080/",
          "height": 542
        }
      },
      "source": [
        "fig = px.bar(substance_daily_breakdown, x=substance_daily_breakdown.index, y='views_per_day')\n",
        "fig.update_layout(title=\"Mean Daily Views per Substance\")\n",
        "fig.show()"
      ],
      "execution_count": 0,
      "outputs": [
        {
          "output_type": "display_data",
          "data": {
            "text/html": [
              "<html>\n",
              "<head><meta charset=\"utf-8\" /></head>\n",
              "<body>\n",
              "    <div>\n",
              "            <script src=\"https://cdnjs.cloudflare.com/ajax/libs/mathjax/2.7.5/MathJax.js?config=TeX-AMS-MML_SVG\"></script><script type=\"text/javascript\">if (window.MathJax) {MathJax.Hub.Config({SVG: {font: \"STIX-Web\"}});}</script>\n",
              "                <script type=\"text/javascript\">window.PlotlyConfig = {MathJaxConfig: 'local'};</script>\n",
              "        <script src=\"https://cdn.plot.ly/plotly-latest.min.js\"></script>    \n",
              "            <div id=\"52a622cc-db0c-4866-9210-8aebd93eeafe\" class=\"plotly-graph-div\" style=\"height:525px; width:100%;\"></div>\n",
              "            <script type=\"text/javascript\">\n",
              "                \n",
              "                    window.PLOTLYENV=window.PLOTLYENV || {};\n",
              "                    \n",
              "                if (document.getElementById(\"52a622cc-db0c-4866-9210-8aebd93eeafe\")) {\n",
              "                    Plotly.newPlot(\n",
              "                        '52a622cc-db0c-4866-9210-8aebd93eeafe',\n",
              "                        [{\"alignmentgroup\": \"True\", \"hoverlabel\": {\"namelength\": 0}, \"hovertemplate\": \"x=%{x}<br>views_per_day=%{y}\", \"legendgroup\": \"\", \"marker\": {\"color\": \"#636efa\"}, \"name\": \"\", \"offsetgroup\": \"\", \"orientation\": \"v\", \"showlegend\": false, \"textposition\": \"auto\", \"type\": \"bar\", \"x\": [\"ADDERALL\", \"AMPHETAMINE\", \"ANABOLIC STEROIDS\", \"BENZOS\", \"COCAINE\", \"FENTANYL\", \"GHB\", \"HEROIN\", \"KETAMINE\", \"LSD\", \"MARIJUANA\", \"MDMA\", \"MESCALINE\", \"METHAMPHETAMINE\", \"MUSHROOMS\", \"OPIUM\", \"PCP \", \"PRESCRIPTION OPIOIDS\", \"ROHYPNOL\", \"SALVIA\"], \"xaxis\": \"x\", \"y\": [11.360774410774411, 1.0707358674463938, 8.390579710144927, 4.520523708421798, 5.230019960079838, 10.018627450980391, 0.895578231292517, 8.650749063670412, 2.9445913461538455, 5.113333333333332, 5.94600899381675, 3.6018625192012297, 7.811864406779661, 3.156152927120669, 16.865000000000002, 0.4721311475409836, 11.145762711864407, 5.524627720504008, 11.613235294117647, 9.45], \"yaxis\": \"y\"}],\n",
              "                        {\"barmode\": \"relative\", \"legend\": {\"tracegroupgap\": 0}, \"margin\": {\"t\": 60}, \"template\": {\"data\": {\"bar\": [{\"error_x\": {\"color\": \"#2a3f5f\"}, \"error_y\": {\"color\": \"#2a3f5f\"}, \"marker\": {\"line\": {\"color\": \"#E5ECF6\", \"width\": 0.5}}, \"type\": \"bar\"}], \"barpolar\": [{\"marker\": {\"line\": {\"color\": \"#E5ECF6\", \"width\": 0.5}}, \"type\": \"barpolar\"}], \"carpet\": [{\"aaxis\": {\"endlinecolor\": \"#2a3f5f\", \"gridcolor\": \"white\", \"linecolor\": \"white\", \"minorgridcolor\": \"white\", \"startlinecolor\": \"#2a3f5f\"}, \"baxis\": {\"endlinecolor\": \"#2a3f5f\", \"gridcolor\": \"white\", \"linecolor\": \"white\", \"minorgridcolor\": \"white\", \"startlinecolor\": \"#2a3f5f\"}, \"type\": \"carpet\"}], \"choropleth\": [{\"colorbar\": {\"outlinewidth\": 0, \"ticks\": \"\"}, \"type\": \"choropleth\"}], \"contour\": [{\"colorbar\": {\"outlinewidth\": 0, \"ticks\": \"\"}, \"colorscale\": [[0.0, \"#0d0887\"], [0.1111111111111111, \"#46039f\"], [0.2222222222222222, \"#7201a8\"], [0.3333333333333333, \"#9c179e\"], [0.4444444444444444, \"#bd3786\"], [0.5555555555555556, \"#d8576b\"], [0.6666666666666666, \"#ed7953\"], [0.7777777777777778, \"#fb9f3a\"], [0.8888888888888888, \"#fdca26\"], [1.0, \"#f0f921\"]], \"type\": \"contour\"}], \"contourcarpet\": [{\"colorbar\": {\"outlinewidth\": 0, \"ticks\": \"\"}, \"type\": \"contourcarpet\"}], \"heatmap\": [{\"colorbar\": {\"outlinewidth\": 0, \"ticks\": \"\"}, \"colorscale\": [[0.0, \"#0d0887\"], [0.1111111111111111, \"#46039f\"], [0.2222222222222222, \"#7201a8\"], [0.3333333333333333, \"#9c179e\"], [0.4444444444444444, \"#bd3786\"], [0.5555555555555556, \"#d8576b\"], [0.6666666666666666, \"#ed7953\"], [0.7777777777777778, \"#fb9f3a\"], [0.8888888888888888, \"#fdca26\"], [1.0, \"#f0f921\"]], \"type\": \"heatmap\"}], \"heatmapgl\": [{\"colorbar\": {\"outlinewidth\": 0, \"ticks\": \"\"}, \"colorscale\": [[0.0, \"#0d0887\"], [0.1111111111111111, \"#46039f\"], [0.2222222222222222, \"#7201a8\"], [0.3333333333333333, \"#9c179e\"], [0.4444444444444444, \"#bd3786\"], [0.5555555555555556, \"#d8576b\"], [0.6666666666666666, \"#ed7953\"], [0.7777777777777778, \"#fb9f3a\"], [0.8888888888888888, \"#fdca26\"], [1.0, \"#f0f921\"]], \"type\": \"heatmapgl\"}], \"histogram\": [{\"marker\": {\"colorbar\": {\"outlinewidth\": 0, \"ticks\": \"\"}}, \"type\": \"histogram\"}], \"histogram2d\": [{\"colorbar\": {\"outlinewidth\": 0, \"ticks\": \"\"}, \"colorscale\": [[0.0, \"#0d0887\"], [0.1111111111111111, \"#46039f\"], [0.2222222222222222, \"#7201a8\"], [0.3333333333333333, \"#9c179e\"], [0.4444444444444444, \"#bd3786\"], [0.5555555555555556, \"#d8576b\"], [0.6666666666666666, \"#ed7953\"], [0.7777777777777778, \"#fb9f3a\"], [0.8888888888888888, \"#fdca26\"], [1.0, \"#f0f921\"]], \"type\": \"histogram2d\"}], \"histogram2dcontour\": [{\"colorbar\": {\"outlinewidth\": 0, \"ticks\": \"\"}, \"colorscale\": [[0.0, \"#0d0887\"], [0.1111111111111111, \"#46039f\"], [0.2222222222222222, \"#7201a8\"], [0.3333333333333333, \"#9c179e\"], [0.4444444444444444, \"#bd3786\"], [0.5555555555555556, \"#d8576b\"], [0.6666666666666666, \"#ed7953\"], [0.7777777777777778, \"#fb9f3a\"], [0.8888888888888888, \"#fdca26\"], [1.0, \"#f0f921\"]], \"type\": \"histogram2dcontour\"}], \"mesh3d\": [{\"colorbar\": {\"outlinewidth\": 0, \"ticks\": \"\"}, \"type\": \"mesh3d\"}], \"parcoords\": [{\"line\": {\"colorbar\": {\"outlinewidth\": 0, \"ticks\": \"\"}}, \"type\": \"parcoords\"}], \"pie\": [{\"automargin\": true, \"type\": \"pie\"}], \"scatter\": [{\"marker\": {\"colorbar\": {\"outlinewidth\": 0, \"ticks\": \"\"}}, \"type\": \"scatter\"}], \"scatter3d\": [{\"line\": {\"colorbar\": {\"outlinewidth\": 0, \"ticks\": \"\"}}, \"marker\": {\"colorbar\": {\"outlinewidth\": 0, \"ticks\": \"\"}}, \"type\": \"scatter3d\"}], \"scattercarpet\": [{\"marker\": {\"colorbar\": {\"outlinewidth\": 0, \"ticks\": \"\"}}, \"type\": \"scattercarpet\"}], \"scattergeo\": [{\"marker\": {\"colorbar\": {\"outlinewidth\": 0, \"ticks\": \"\"}}, \"type\": \"scattergeo\"}], \"scattergl\": [{\"marker\": {\"colorbar\": {\"outlinewidth\": 0, \"ticks\": \"\"}}, \"type\": \"scattergl\"}], \"scattermapbox\": [{\"marker\": {\"colorbar\": {\"outlinewidth\": 0, \"ticks\": \"\"}}, \"type\": \"scattermapbox\"}], \"scatterpolar\": [{\"marker\": {\"colorbar\": {\"outlinewidth\": 0, \"ticks\": \"\"}}, \"type\": \"scatterpolar\"}], \"scatterpolargl\": [{\"marker\": {\"colorbar\": {\"outlinewidth\": 0, \"ticks\": \"\"}}, \"type\": \"scatterpolargl\"}], \"scatterternary\": [{\"marker\": {\"colorbar\": {\"outlinewidth\": 0, \"ticks\": \"\"}}, \"type\": \"scatterternary\"}], \"surface\": [{\"colorbar\": {\"outlinewidth\": 0, \"ticks\": \"\"}, \"colorscale\": [[0.0, \"#0d0887\"], [0.1111111111111111, \"#46039f\"], [0.2222222222222222, \"#7201a8\"], [0.3333333333333333, \"#9c179e\"], [0.4444444444444444, \"#bd3786\"], [0.5555555555555556, \"#d8576b\"], [0.6666666666666666, \"#ed7953\"], [0.7777777777777778, \"#fb9f3a\"], [0.8888888888888888, \"#fdca26\"], [1.0, \"#f0f921\"]], \"type\": \"surface\"}], \"table\": [{\"cells\": {\"fill\": {\"color\": \"#EBF0F8\"}, \"line\": {\"color\": \"white\"}}, \"header\": {\"fill\": {\"color\": \"#C8D4E3\"}, \"line\": {\"color\": \"white\"}}, \"type\": \"table\"}]}, \"layout\": {\"annotationdefaults\": {\"arrowcolor\": \"#2a3f5f\", \"arrowhead\": 0, \"arrowwidth\": 1}, \"coloraxis\": {\"colorbar\": {\"outlinewidth\": 0, \"ticks\": \"\"}}, \"colorscale\": {\"diverging\": [[0, \"#8e0152\"], [0.1, \"#c51b7d\"], [0.2, \"#de77ae\"], [0.3, \"#f1b6da\"], [0.4, \"#fde0ef\"], [0.5, \"#f7f7f7\"], [0.6, \"#e6f5d0\"], [0.7, \"#b8e186\"], [0.8, \"#7fbc41\"], [0.9, \"#4d9221\"], [1, \"#276419\"]], \"sequential\": [[0.0, \"#0d0887\"], [0.1111111111111111, \"#46039f\"], [0.2222222222222222, \"#7201a8\"], [0.3333333333333333, \"#9c179e\"], [0.4444444444444444, \"#bd3786\"], [0.5555555555555556, \"#d8576b\"], [0.6666666666666666, \"#ed7953\"], [0.7777777777777778, \"#fb9f3a\"], [0.8888888888888888, \"#fdca26\"], [1.0, \"#f0f921\"]], \"sequentialminus\": [[0.0, \"#0d0887\"], [0.1111111111111111, \"#46039f\"], [0.2222222222222222, \"#7201a8\"], [0.3333333333333333, \"#9c179e\"], [0.4444444444444444, \"#bd3786\"], [0.5555555555555556, \"#d8576b\"], [0.6666666666666666, \"#ed7953\"], [0.7777777777777778, \"#fb9f3a\"], [0.8888888888888888, \"#fdca26\"], [1.0, \"#f0f921\"]]}, \"colorway\": [\"#636efa\", \"#EF553B\", \"#00cc96\", \"#ab63fa\", \"#FFA15A\", \"#19d3f3\", \"#FF6692\", \"#B6E880\", \"#FF97FF\", \"#FECB52\"], \"font\": {\"color\": \"#2a3f5f\"}, \"geo\": {\"bgcolor\": \"white\", \"lakecolor\": \"white\", \"landcolor\": \"#E5ECF6\", \"showlakes\": true, \"showland\": true, \"subunitcolor\": \"white\"}, \"hoverlabel\": {\"align\": \"left\"}, \"hovermode\": \"closest\", \"mapbox\": {\"style\": \"light\"}, \"paper_bgcolor\": \"white\", \"plot_bgcolor\": \"#E5ECF6\", \"polar\": {\"angularaxis\": {\"gridcolor\": \"white\", \"linecolor\": \"white\", \"ticks\": \"\"}, \"bgcolor\": \"#E5ECF6\", \"radialaxis\": {\"gridcolor\": \"white\", \"linecolor\": \"white\", \"ticks\": \"\"}}, \"scene\": {\"xaxis\": {\"backgroundcolor\": \"#E5ECF6\", \"gridcolor\": \"white\", \"gridwidth\": 2, \"linecolor\": \"white\", \"showbackground\": true, \"ticks\": \"\", \"zerolinecolor\": \"white\"}, \"yaxis\": {\"backgroundcolor\": \"#E5ECF6\", \"gridcolor\": \"white\", \"gridwidth\": 2, \"linecolor\": \"white\", \"showbackground\": true, \"ticks\": \"\", \"zerolinecolor\": \"white\"}, \"zaxis\": {\"backgroundcolor\": \"#E5ECF6\", \"gridcolor\": \"white\", \"gridwidth\": 2, \"linecolor\": \"white\", \"showbackground\": true, \"ticks\": \"\", \"zerolinecolor\": \"white\"}}, \"shapedefaults\": {\"line\": {\"color\": \"#2a3f5f\"}}, \"ternary\": {\"aaxis\": {\"gridcolor\": \"white\", \"linecolor\": \"white\", \"ticks\": \"\"}, \"baxis\": {\"gridcolor\": \"white\", \"linecolor\": \"white\", \"ticks\": \"\"}, \"bgcolor\": \"#E5ECF6\", \"caxis\": {\"gridcolor\": \"white\", \"linecolor\": \"white\", \"ticks\": \"\"}}, \"title\": {\"x\": 0.05}, \"xaxis\": {\"automargin\": true, \"gridcolor\": \"white\", \"linecolor\": \"white\", \"ticks\": \"\", \"title\": {\"standoff\": 15}, \"zerolinecolor\": \"white\", \"zerolinewidth\": 2}, \"yaxis\": {\"automargin\": true, \"gridcolor\": \"white\", \"linecolor\": \"white\", \"ticks\": \"\", \"title\": {\"standoff\": 15}, \"zerolinecolor\": \"white\", \"zerolinewidth\": 2}}}, \"title\": {\"text\": \"Mean Daily Views per Substance\"}, \"xaxis\": {\"anchor\": \"y\", \"domain\": [0.0, 1.0], \"title\": {\"text\": \"x\"}}, \"yaxis\": {\"anchor\": \"x\", \"domain\": [0.0, 1.0], \"title\": {\"text\": \"views_per_day\"}}},\n",
              "                        {\"responsive\": true}\n",
              "                    ).then(function(){\n",
              "                            \n",
              "var gd = document.getElementById('52a622cc-db0c-4866-9210-8aebd93eeafe');\n",
              "var x = new MutationObserver(function (mutations, observer) {{\n",
              "        var display = window.getComputedStyle(gd).display;\n",
              "        if (!display || display === 'none') {{\n",
              "            console.log([gd, 'removed!']);\n",
              "            Plotly.purge(gd);\n",
              "            observer.disconnect();\n",
              "        }}\n",
              "}});\n",
              "\n",
              "// Listen for the removal of the full notebook cells\n",
              "var notebookContainer = gd.closest('#notebook-container');\n",
              "if (notebookContainer) {{\n",
              "    x.observe(notebookContainer, {childList: true});\n",
              "}}\n",
              "\n",
              "// Listen for the clearing of the current output cell\n",
              "var outputEl = gd.closest('.output');\n",
              "if (outputEl) {{\n",
              "    x.observe(outputEl, {childList: true});\n",
              "}}\n",
              "\n",
              "                        })\n",
              "                };\n",
              "                \n",
              "            </script>\n",
              "        </div>\n",
              "</body>\n",
              "</html>"
            ]
          },
          "metadata": {
            "tags": []
          }
        }
      ]
    },
    {
      "cell_type": "code",
      "metadata": {
        "pycharm": {
          "name": "#%%\n"
        },
        "id": "QefD5sdQJIlK",
        "colab_type": "code",
        "outputId": "6aad743b-1d01-4e48-b618-f69fa1c3f00c",
        "colab": {
          "base_uri": "https://localhost:8080/",
          "height": 542
        }
      },
      "source": [
        "fig = px.bar(substance_daily_breakdown, x=substance_daily_breakdown.index, y='sales_per_day')\n",
        "fig.update_layout(title=\"Mean Daily Sales per Substance\")\n",
        "fig.show()"
      ],
      "execution_count": 0,
      "outputs": [
        {
          "output_type": "display_data",
          "data": {
            "text/html": [
              "<html>\n",
              "<head><meta charset=\"utf-8\" /></head>\n",
              "<body>\n",
              "    <div>\n",
              "            <script src=\"https://cdnjs.cloudflare.com/ajax/libs/mathjax/2.7.5/MathJax.js?config=TeX-AMS-MML_SVG\"></script><script type=\"text/javascript\">if (window.MathJax) {MathJax.Hub.Config({SVG: {font: \"STIX-Web\"}});}</script>\n",
              "                <script type=\"text/javascript\">window.PlotlyConfig = {MathJaxConfig: 'local'};</script>\n",
              "        <script src=\"https://cdn.plot.ly/plotly-latest.min.js\"></script>    \n",
              "            <div id=\"3719a0e1-5f08-48e7-b1f9-6e9df04e3e0c\" class=\"plotly-graph-div\" style=\"height:525px; width:100%;\"></div>\n",
              "            <script type=\"text/javascript\">\n",
              "                \n",
              "                    window.PLOTLYENV=window.PLOTLYENV || {};\n",
              "                    \n",
              "                if (document.getElementById(\"3719a0e1-5f08-48e7-b1f9-6e9df04e3e0c\")) {\n",
              "                    Plotly.newPlot(\n",
              "                        '3719a0e1-5f08-48e7-b1f9-6e9df04e3e0c',\n",
              "                        [{\"alignmentgroup\": \"True\", \"hoverlabel\": {\"namelength\": 0}, \"hovertemplate\": \"x=%{x}<br>sales_per_day=%{y}\", \"legendgroup\": \"\", \"marker\": {\"color\": \"#636efa\"}, \"name\": \"\", \"offsetgroup\": \"\", \"orientation\": \"v\", \"showlegend\": false, \"textposition\": \"auto\", \"type\": \"bar\", \"x\": [\"ADDERALL\", \"AMPHETAMINE\", \"ANABOLIC STEROIDS\", \"BENZOS\", \"COCAINE\", \"FENTANYL\", \"GHB\", \"HEROIN\", \"KETAMINE\", \"LSD\", \"MARIJUANA\", \"MDMA\", \"MESCALINE\", \"METHAMPHETAMINE\", \"MUSHROOMS\", \"OPIUM\", \"PCP \", \"PRESCRIPTION OPIOIDS\", \"ROHYPNOL\", \"SALVIA\"], \"xaxis\": \"x\", \"y\": [0.04511784511784511, 0.015789473684210523, 0.0, 0.026114649681528664, 0.050878243512974056, 0.04264705882352942, 0.0029154518950437317, 0.08071161048689139, 0.007211538461538462, 0.06685714285714285, 0.03895446880269815, 0.03934331797235024, 0.17627118644067796, 0.011827956989247311, 0.08, 0.0, 0.2033898305084746, 0.026947308132875148, 0.08676470588235295, 0.0], \"yaxis\": \"y\"}],\n",
              "                        {\"barmode\": \"relative\", \"legend\": {\"tracegroupgap\": 0}, \"margin\": {\"t\": 60}, \"template\": {\"data\": {\"bar\": [{\"error_x\": {\"color\": \"#2a3f5f\"}, \"error_y\": {\"color\": \"#2a3f5f\"}, \"marker\": {\"line\": {\"color\": \"#E5ECF6\", \"width\": 0.5}}, \"type\": \"bar\"}], \"barpolar\": [{\"marker\": {\"line\": {\"color\": \"#E5ECF6\", \"width\": 0.5}}, \"type\": \"barpolar\"}], \"carpet\": [{\"aaxis\": {\"endlinecolor\": \"#2a3f5f\", \"gridcolor\": \"white\", \"linecolor\": \"white\", \"minorgridcolor\": \"white\", \"startlinecolor\": \"#2a3f5f\"}, \"baxis\": {\"endlinecolor\": \"#2a3f5f\", \"gridcolor\": \"white\", \"linecolor\": \"white\", \"minorgridcolor\": \"white\", \"startlinecolor\": \"#2a3f5f\"}, \"type\": \"carpet\"}], \"choropleth\": [{\"colorbar\": {\"outlinewidth\": 0, \"ticks\": \"\"}, \"type\": \"choropleth\"}], \"contour\": [{\"colorbar\": {\"outlinewidth\": 0, \"ticks\": \"\"}, \"colorscale\": [[0.0, \"#0d0887\"], [0.1111111111111111, \"#46039f\"], [0.2222222222222222, \"#7201a8\"], [0.3333333333333333, \"#9c179e\"], [0.4444444444444444, \"#bd3786\"], [0.5555555555555556, \"#d8576b\"], [0.6666666666666666, \"#ed7953\"], [0.7777777777777778, \"#fb9f3a\"], [0.8888888888888888, \"#fdca26\"], [1.0, \"#f0f921\"]], \"type\": \"contour\"}], \"contourcarpet\": [{\"colorbar\": {\"outlinewidth\": 0, \"ticks\": \"\"}, \"type\": \"contourcarpet\"}], \"heatmap\": [{\"colorbar\": {\"outlinewidth\": 0, \"ticks\": \"\"}, \"colorscale\": [[0.0, \"#0d0887\"], [0.1111111111111111, \"#46039f\"], [0.2222222222222222, \"#7201a8\"], [0.3333333333333333, \"#9c179e\"], [0.4444444444444444, \"#bd3786\"], [0.5555555555555556, \"#d8576b\"], [0.6666666666666666, \"#ed7953\"], [0.7777777777777778, \"#fb9f3a\"], [0.8888888888888888, \"#fdca26\"], [1.0, \"#f0f921\"]], \"type\": \"heatmap\"}], \"heatmapgl\": [{\"colorbar\": {\"outlinewidth\": 0, \"ticks\": \"\"}, \"colorscale\": [[0.0, \"#0d0887\"], [0.1111111111111111, \"#46039f\"], [0.2222222222222222, \"#7201a8\"], [0.3333333333333333, \"#9c179e\"], [0.4444444444444444, \"#bd3786\"], [0.5555555555555556, \"#d8576b\"], [0.6666666666666666, \"#ed7953\"], [0.7777777777777778, \"#fb9f3a\"], [0.8888888888888888, \"#fdca26\"], [1.0, \"#f0f921\"]], \"type\": \"heatmapgl\"}], \"histogram\": [{\"marker\": {\"colorbar\": {\"outlinewidth\": 0, \"ticks\": \"\"}}, \"type\": \"histogram\"}], \"histogram2d\": [{\"colorbar\": {\"outlinewidth\": 0, \"ticks\": \"\"}, \"colorscale\": [[0.0, \"#0d0887\"], [0.1111111111111111, \"#46039f\"], [0.2222222222222222, \"#7201a8\"], [0.3333333333333333, \"#9c179e\"], [0.4444444444444444, \"#bd3786\"], [0.5555555555555556, \"#d8576b\"], [0.6666666666666666, \"#ed7953\"], [0.7777777777777778, \"#fb9f3a\"], [0.8888888888888888, \"#fdca26\"], [1.0, \"#f0f921\"]], \"type\": \"histogram2d\"}], \"histogram2dcontour\": [{\"colorbar\": {\"outlinewidth\": 0, \"ticks\": \"\"}, \"colorscale\": [[0.0, \"#0d0887\"], [0.1111111111111111, \"#46039f\"], [0.2222222222222222, \"#7201a8\"], [0.3333333333333333, \"#9c179e\"], [0.4444444444444444, \"#bd3786\"], [0.5555555555555556, \"#d8576b\"], [0.6666666666666666, \"#ed7953\"], [0.7777777777777778, \"#fb9f3a\"], [0.8888888888888888, \"#fdca26\"], [1.0, \"#f0f921\"]], \"type\": \"histogram2dcontour\"}], \"mesh3d\": [{\"colorbar\": {\"outlinewidth\": 0, \"ticks\": \"\"}, \"type\": \"mesh3d\"}], \"parcoords\": [{\"line\": {\"colorbar\": {\"outlinewidth\": 0, \"ticks\": \"\"}}, \"type\": \"parcoords\"}], \"pie\": [{\"automargin\": true, \"type\": \"pie\"}], \"scatter\": [{\"marker\": {\"colorbar\": {\"outlinewidth\": 0, \"ticks\": \"\"}}, \"type\": \"scatter\"}], \"scatter3d\": [{\"line\": {\"colorbar\": {\"outlinewidth\": 0, \"ticks\": \"\"}}, \"marker\": {\"colorbar\": {\"outlinewidth\": 0, \"ticks\": \"\"}}, \"type\": \"scatter3d\"}], \"scattercarpet\": [{\"marker\": {\"colorbar\": {\"outlinewidth\": 0, \"ticks\": \"\"}}, \"type\": \"scattercarpet\"}], \"scattergeo\": [{\"marker\": {\"colorbar\": {\"outlinewidth\": 0, \"ticks\": \"\"}}, \"type\": \"scattergeo\"}], \"scattergl\": [{\"marker\": {\"colorbar\": {\"outlinewidth\": 0, \"ticks\": \"\"}}, \"type\": \"scattergl\"}], \"scattermapbox\": [{\"marker\": {\"colorbar\": {\"outlinewidth\": 0, \"ticks\": \"\"}}, \"type\": \"scattermapbox\"}], \"scatterpolar\": [{\"marker\": {\"colorbar\": {\"outlinewidth\": 0, \"ticks\": \"\"}}, \"type\": \"scatterpolar\"}], \"scatterpolargl\": [{\"marker\": {\"colorbar\": {\"outlinewidth\": 0, \"ticks\": \"\"}}, \"type\": \"scatterpolargl\"}], \"scatterternary\": [{\"marker\": {\"colorbar\": {\"outlinewidth\": 0, \"ticks\": \"\"}}, \"type\": \"scatterternary\"}], \"surface\": [{\"colorbar\": {\"outlinewidth\": 0, \"ticks\": \"\"}, \"colorscale\": [[0.0, \"#0d0887\"], [0.1111111111111111, \"#46039f\"], [0.2222222222222222, \"#7201a8\"], [0.3333333333333333, \"#9c179e\"], [0.4444444444444444, \"#bd3786\"], [0.5555555555555556, \"#d8576b\"], [0.6666666666666666, \"#ed7953\"], [0.7777777777777778, \"#fb9f3a\"], [0.8888888888888888, \"#fdca26\"], [1.0, \"#f0f921\"]], \"type\": \"surface\"}], \"table\": [{\"cells\": {\"fill\": {\"color\": \"#EBF0F8\"}, \"line\": {\"color\": \"white\"}}, \"header\": {\"fill\": {\"color\": \"#C8D4E3\"}, \"line\": {\"color\": \"white\"}}, \"type\": \"table\"}]}, \"layout\": {\"annotationdefaults\": {\"arrowcolor\": \"#2a3f5f\", \"arrowhead\": 0, \"arrowwidth\": 1}, \"coloraxis\": {\"colorbar\": {\"outlinewidth\": 0, \"ticks\": \"\"}}, \"colorscale\": {\"diverging\": [[0, \"#8e0152\"], [0.1, \"#c51b7d\"], [0.2, \"#de77ae\"], [0.3, \"#f1b6da\"], [0.4, \"#fde0ef\"], [0.5, \"#f7f7f7\"], [0.6, \"#e6f5d0\"], [0.7, \"#b8e186\"], [0.8, \"#7fbc41\"], [0.9, \"#4d9221\"], [1, \"#276419\"]], \"sequential\": [[0.0, \"#0d0887\"], [0.1111111111111111, \"#46039f\"], [0.2222222222222222, \"#7201a8\"], [0.3333333333333333, \"#9c179e\"], [0.4444444444444444, \"#bd3786\"], [0.5555555555555556, \"#d8576b\"], [0.6666666666666666, \"#ed7953\"], [0.7777777777777778, \"#fb9f3a\"], [0.8888888888888888, \"#fdca26\"], [1.0, \"#f0f921\"]], \"sequentialminus\": [[0.0, \"#0d0887\"], [0.1111111111111111, \"#46039f\"], [0.2222222222222222, \"#7201a8\"], [0.3333333333333333, \"#9c179e\"], [0.4444444444444444, \"#bd3786\"], [0.5555555555555556, \"#d8576b\"], [0.6666666666666666, \"#ed7953\"], [0.7777777777777778, \"#fb9f3a\"], [0.8888888888888888, \"#fdca26\"], [1.0, \"#f0f921\"]]}, \"colorway\": [\"#636efa\", \"#EF553B\", \"#00cc96\", \"#ab63fa\", \"#FFA15A\", \"#19d3f3\", \"#FF6692\", \"#B6E880\", \"#FF97FF\", \"#FECB52\"], \"font\": {\"color\": \"#2a3f5f\"}, \"geo\": {\"bgcolor\": \"white\", \"lakecolor\": \"white\", \"landcolor\": \"#E5ECF6\", \"showlakes\": true, \"showland\": true, \"subunitcolor\": \"white\"}, \"hoverlabel\": {\"align\": \"left\"}, \"hovermode\": \"closest\", \"mapbox\": {\"style\": \"light\"}, \"paper_bgcolor\": \"white\", \"plot_bgcolor\": \"#E5ECF6\", \"polar\": {\"angularaxis\": {\"gridcolor\": \"white\", \"linecolor\": \"white\", \"ticks\": \"\"}, \"bgcolor\": \"#E5ECF6\", \"radialaxis\": {\"gridcolor\": \"white\", \"linecolor\": \"white\", \"ticks\": \"\"}}, \"scene\": {\"xaxis\": {\"backgroundcolor\": \"#E5ECF6\", \"gridcolor\": \"white\", \"gridwidth\": 2, \"linecolor\": \"white\", \"showbackground\": true, \"ticks\": \"\", \"zerolinecolor\": \"white\"}, \"yaxis\": {\"backgroundcolor\": \"#E5ECF6\", \"gridcolor\": \"white\", \"gridwidth\": 2, \"linecolor\": \"white\", \"showbackground\": true, \"ticks\": \"\", \"zerolinecolor\": \"white\"}, \"zaxis\": {\"backgroundcolor\": \"#E5ECF6\", \"gridcolor\": \"white\", \"gridwidth\": 2, \"linecolor\": \"white\", \"showbackground\": true, \"ticks\": \"\", \"zerolinecolor\": \"white\"}}, \"shapedefaults\": {\"line\": {\"color\": \"#2a3f5f\"}}, \"ternary\": {\"aaxis\": {\"gridcolor\": \"white\", \"linecolor\": \"white\", \"ticks\": \"\"}, \"baxis\": {\"gridcolor\": \"white\", \"linecolor\": \"white\", \"ticks\": \"\"}, \"bgcolor\": \"#E5ECF6\", \"caxis\": {\"gridcolor\": \"white\", \"linecolor\": \"white\", \"ticks\": \"\"}}, \"title\": {\"x\": 0.05}, \"xaxis\": {\"automargin\": true, \"gridcolor\": \"white\", \"linecolor\": \"white\", \"ticks\": \"\", \"title\": {\"standoff\": 15}, \"zerolinecolor\": \"white\", \"zerolinewidth\": 2}, \"yaxis\": {\"automargin\": true, \"gridcolor\": \"white\", \"linecolor\": \"white\", \"ticks\": \"\", \"title\": {\"standoff\": 15}, \"zerolinecolor\": \"white\", \"zerolinewidth\": 2}}}, \"title\": {\"text\": \"Mean Daily Sales per Substance\"}, \"xaxis\": {\"anchor\": \"y\", \"domain\": [0.0, 1.0], \"title\": {\"text\": \"x\"}}, \"yaxis\": {\"anchor\": \"x\", \"domain\": [0.0, 1.0], \"title\": {\"text\": \"sales_per_day\"}}},\n",
              "                        {\"responsive\": true}\n",
              "                    ).then(function(){\n",
              "                            \n",
              "var gd = document.getElementById('3719a0e1-5f08-48e7-b1f9-6e9df04e3e0c');\n",
              "var x = new MutationObserver(function (mutations, observer) {{\n",
              "        var display = window.getComputedStyle(gd).display;\n",
              "        if (!display || display === 'none') {{\n",
              "            console.log([gd, 'removed!']);\n",
              "            Plotly.purge(gd);\n",
              "            observer.disconnect();\n",
              "        }}\n",
              "}});\n",
              "\n",
              "// Listen for the removal of the full notebook cells\n",
              "var notebookContainer = gd.closest('#notebook-container');\n",
              "if (notebookContainer) {{\n",
              "    x.observe(notebookContainer, {childList: true});\n",
              "}}\n",
              "\n",
              "// Listen for the clearing of the current output cell\n",
              "var outputEl = gd.closest('.output');\n",
              "if (outputEl) {{\n",
              "    x.observe(outputEl, {childList: true});\n",
              "}}\n",
              "\n",
              "                        })\n",
              "                };\n",
              "                \n",
              "            </script>\n",
              "        </div>\n",
              "</body>\n",
              "</html>"
            ]
          },
          "metadata": {
            "tags": []
          }
        }
      ]
    },
    {
      "cell_type": "code",
      "metadata": {
        "pycharm": {
          "name": "#%%\n"
        },
        "id": "-6YGoULrJIlM",
        "colab_type": "code",
        "outputId": "72335ba5-e09a-408f-bc55-6788d0652a80",
        "colab": {
          "base_uri": "https://localhost:8080/",
          "height": 297
        }
      },
      "source": [
        "seller_list.describe()"
      ],
      "execution_count": 0,
      "outputs": [
        {
          "output_type": "execute_result",
          "data": {
            "text/html": [
              "<div>\n",
              "<style scoped>\n",
              "    .dataframe tbody tr th:only-of-type {\n",
              "        vertical-align: middle;\n",
              "    }\n",
              "\n",
              "    .dataframe tbody tr th {\n",
              "        vertical-align: top;\n",
              "    }\n",
              "\n",
              "    .dataframe thead th {\n",
              "        text-align: right;\n",
              "    }\n",
              "</style>\n",
              "<table border=\"1\" class=\"dataframe\">\n",
              "  <thead>\n",
              "    <tr style=\"text-align: right;\">\n",
              "      <th></th>\n",
              "      <th>average_price</th>\n",
              "      <th>review_score</th>\n",
              "      <th>advert_count</th>\n",
              "      <th>total_views</th>\n",
              "      <th>total_sales</th>\n",
              "      <th>substances_sold</th>\n",
              "      <th>cloned_count</th>\n",
              "    </tr>\n",
              "  </thead>\n",
              "  <tbody>\n",
              "    <tr>\n",
              "      <th>count</th>\n",
              "      <td>95.000000</td>\n",
              "      <td>95.000000</td>\n",
              "      <td>95.000000</td>\n",
              "      <td>95.000000</td>\n",
              "      <td>95.000000</td>\n",
              "      <td>95.000000</td>\n",
              "      <td>95.000000</td>\n",
              "    </tr>\n",
              "    <tr>\n",
              "      <th>mean</th>\n",
              "      <td>401.183842</td>\n",
              "      <td>4.905263</td>\n",
              "      <td>33.147368</td>\n",
              "      <td>829.852632</td>\n",
              "      <td>8.031579</td>\n",
              "      <td>4.705263</td>\n",
              "      <td>32.578947</td>\n",
              "    </tr>\n",
              "    <tr>\n",
              "      <th>std</th>\n",
              "      <td>661.234784</td>\n",
              "      <td>0.328559</td>\n",
              "      <td>63.144207</td>\n",
              "      <td>1385.492638</td>\n",
              "      <td>20.013002</td>\n",
              "      <td>3.280742</td>\n",
              "      <td>60.715342</td>\n",
              "    </tr>\n",
              "    <tr>\n",
              "      <th>min</th>\n",
              "      <td>2.666667</td>\n",
              "      <td>3.000000</td>\n",
              "      <td>1.000000</td>\n",
              "      <td>5.000000</td>\n",
              "      <td>0.000000</td>\n",
              "      <td>1.000000</td>\n",
              "      <td>1.000000</td>\n",
              "    </tr>\n",
              "    <tr>\n",
              "      <th>25%</th>\n",
              "      <td>71.264167</td>\n",
              "      <td>5.000000</td>\n",
              "      <td>6.500000</td>\n",
              "      <td>117.000000</td>\n",
              "      <td>0.000000</td>\n",
              "      <td>2.000000</td>\n",
              "      <td>6.500000</td>\n",
              "    </tr>\n",
              "    <tr>\n",
              "      <th>50%</th>\n",
              "      <td>240.000000</td>\n",
              "      <td>5.000000</td>\n",
              "      <td>14.000000</td>\n",
              "      <td>367.000000</td>\n",
              "      <td>1.000000</td>\n",
              "      <td>4.000000</td>\n",
              "      <td>14.000000</td>\n",
              "    </tr>\n",
              "    <tr>\n",
              "      <th>75%</th>\n",
              "      <td>451.106021</td>\n",
              "      <td>5.000000</td>\n",
              "      <td>32.500000</td>\n",
              "      <td>784.500000</td>\n",
              "      <td>6.500000</td>\n",
              "      <td>7.000000</td>\n",
              "      <td>32.500000</td>\n",
              "    </tr>\n",
              "    <tr>\n",
              "      <th>max</th>\n",
              "      <td>5407.731343</td>\n",
              "      <td>5.000000</td>\n",
              "      <td>404.000000</td>\n",
              "      <td>6954.000000</td>\n",
              "      <td>136.000000</td>\n",
              "      <td>14.000000</td>\n",
              "      <td>381.000000</td>\n",
              "    </tr>\n",
              "  </tbody>\n",
              "</table>\n",
              "</div>"
            ],
            "text/plain": [
              "       average_price  review_score  ...  substances_sold  cloned_count\n",
              "count      95.000000     95.000000  ...        95.000000     95.000000\n",
              "mean      401.183842      4.905263  ...         4.705263     32.578947\n",
              "std       661.234784      0.328559  ...         3.280742     60.715342\n",
              "min         2.666667      3.000000  ...         1.000000      1.000000\n",
              "25%        71.264167      5.000000  ...         2.000000      6.500000\n",
              "50%       240.000000      5.000000  ...         4.000000     14.000000\n",
              "75%       451.106021      5.000000  ...         7.000000     32.500000\n",
              "max      5407.731343      5.000000  ...        14.000000    381.000000\n",
              "\n",
              "[8 rows x 7 columns]"
            ]
          },
          "metadata": {
            "tags": []
          },
          "execution_count": 12
        }
      ]
    },
    {
      "cell_type": "code",
      "metadata": {
        "pycharm": {
          "name": "#%%\n"
        },
        "id": "SGGIn-90JIlP",
        "colab_type": "code",
        "outputId": "ba738863-f4b8-48a7-9744-6ad0273378e8",
        "colab": {
          "base_uri": "https://localhost:8080/",
          "height": 542
        }
      },
      "source": [
        "fig = px.scatter(seller_list, x=\"average_price\", y=\"total_sales\")\n",
        "fig.update_layout(title=\"Market Sellers, Average Price vs Total Sales\")\n",
        "fig.show()"
      ],
      "execution_count": 0,
      "outputs": [
        {
          "output_type": "display_data",
          "data": {
            "text/html": [
              "<html>\n",
              "<head><meta charset=\"utf-8\" /></head>\n",
              "<body>\n",
              "    <div>\n",
              "            <script src=\"https://cdnjs.cloudflare.com/ajax/libs/mathjax/2.7.5/MathJax.js?config=TeX-AMS-MML_SVG\"></script><script type=\"text/javascript\">if (window.MathJax) {MathJax.Hub.Config({SVG: {font: \"STIX-Web\"}});}</script>\n",
              "                <script type=\"text/javascript\">window.PlotlyConfig = {MathJaxConfig: 'local'};</script>\n",
              "        <script src=\"https://cdn.plot.ly/plotly-latest.min.js\"></script>    \n",
              "            <div id=\"1f598b88-030f-4007-8482-b1fc33b96e54\" class=\"plotly-graph-div\" style=\"height:525px; width:100%;\"></div>\n",
              "            <script type=\"text/javascript\">\n",
              "                \n",
              "                    window.PLOTLYENV=window.PLOTLYENV || {};\n",
              "                    \n",
              "                if (document.getElementById(\"1f598b88-030f-4007-8482-b1fc33b96e54\")) {\n",
              "                    Plotly.newPlot(\n",
              "                        '1f598b88-030f-4007-8482-b1fc33b96e54',\n",
              "                        [{\"hoverlabel\": {\"namelength\": 0}, \"hovertemplate\": \"average_price=%{x}<br>total_sales=%{y}\", \"legendgroup\": \"\", \"marker\": {\"color\": \"#636efa\", \"symbol\": \"circle\"}, \"mode\": \"markers\", \"name\": \"\", \"showlegend\": false, \"type\": \"scatter\", \"x\": [5.0, 86.30742857142855, 485.6, 21.6, 1106.25, 10.530000000000001, 311.68800000000005, 158.3392857142857, 64.11555555555555, 5407.731343283582, 95.0, 78.595, 72.0909090909091, 19.131428571428575, 303.1714285714285, 26.25, 61.12800000000001, 426.0, 131.91750000000002, 259.0, 166.68000000000004, 2.6666666666666665, 60.0, 185.0, 249.26399999999998, 597.7272727272727, 116.58749999999999, 269.03508771929825, 124.97333333333334, 34.508125, 41.04, 452.5, 1237.0744444444451, 1065.3762162162163, 190.5, 95.0, 150.0, 113.7625, 48.85000000000001, 309.84251968503935, 1734.4902857142858, 171.25, 229.09061224489793, 466.8545454545454, 345.1053846153845, 30.771428571428572, 350.0, 501.0, 33.76, 349.1951219512195, 1045.62435483871, 326.534, 157.99399999999997, 380.7, 78.18333333333334, 1175.0, 8.64, 2029.3200000000002, 1917.1928571428568, 71.28, 495.35999999999996, 1210.0, 18.09, 420.7745454545455, 426.3636363636364, 30.0, 19.22222222222222, 13.5625, 240.0, 92.64347826086957, 409.2685714285715, 360.0, 386.0, 712.4770642201835, 605.7377049180328, 270.5, 254.9, 49.0, 711.7375, 994.0, 737.8947368421053, 378.23809523809524, 537.2727272727273, 62.02857142857143, 71.24833333333333, 43.3490099009901, 475.0, 381.70588235294116, 449.71204188481676, 37.55555555555556, 372.22222222222223, 106.89200000000001, 86.13574468085108, 466.42857142857144, 145.32479999999998], \"xaxis\": \"x\", \"y\": [0, 47, 1, 1, 0, 10, 2, 27, 9, 62, 0, 10, 1, 2, 0, 0, 0, 8, 0, 1, 5, 0, 0, 0, 0, 2, 2, 3, 9, 13, 0, 0, 73, 4, 1, 0, 0, 9, 0, 3, 136, 1, 46, 1, 84, 3, 0, 0, 7, 2, 9, 0, 0, 0, 0, 0, 0, 4, 0, 0, 0, 0, 3, 2, 1, 0, 0, 12, 0, 1, 36, 1, 1, 1, 0, 13, 1, 1, 0, 0, 0, 0, 1, 1, 10, 4, 6, 2, 19, 8, 0, 6, 28, 0, 7], \"yaxis\": \"y\"}],\n",
              "                        {\"legend\": {\"tracegroupgap\": 0}, \"margin\": {\"t\": 60}, \"template\": {\"data\": {\"bar\": [{\"error_x\": {\"color\": \"#2a3f5f\"}, \"error_y\": {\"color\": \"#2a3f5f\"}, \"marker\": {\"line\": {\"color\": \"#E5ECF6\", \"width\": 0.5}}, \"type\": \"bar\"}], \"barpolar\": [{\"marker\": {\"line\": {\"color\": \"#E5ECF6\", \"width\": 0.5}}, \"type\": \"barpolar\"}], \"carpet\": [{\"aaxis\": {\"endlinecolor\": \"#2a3f5f\", \"gridcolor\": \"white\", \"linecolor\": \"white\", \"minorgridcolor\": \"white\", \"startlinecolor\": \"#2a3f5f\"}, \"baxis\": {\"endlinecolor\": \"#2a3f5f\", \"gridcolor\": \"white\", \"linecolor\": \"white\", \"minorgridcolor\": \"white\", \"startlinecolor\": \"#2a3f5f\"}, \"type\": \"carpet\"}], \"choropleth\": [{\"colorbar\": {\"outlinewidth\": 0, \"ticks\": \"\"}, \"type\": \"choropleth\"}], \"contour\": [{\"colorbar\": {\"outlinewidth\": 0, \"ticks\": \"\"}, \"colorscale\": [[0.0, \"#0d0887\"], [0.1111111111111111, \"#46039f\"], [0.2222222222222222, \"#7201a8\"], [0.3333333333333333, \"#9c179e\"], [0.4444444444444444, \"#bd3786\"], [0.5555555555555556, \"#d8576b\"], [0.6666666666666666, \"#ed7953\"], [0.7777777777777778, \"#fb9f3a\"], [0.8888888888888888, \"#fdca26\"], [1.0, \"#f0f921\"]], \"type\": \"contour\"}], \"contourcarpet\": [{\"colorbar\": {\"outlinewidth\": 0, \"ticks\": \"\"}, \"type\": \"contourcarpet\"}], \"heatmap\": [{\"colorbar\": {\"outlinewidth\": 0, \"ticks\": \"\"}, \"colorscale\": [[0.0, \"#0d0887\"], [0.1111111111111111, \"#46039f\"], [0.2222222222222222, \"#7201a8\"], [0.3333333333333333, \"#9c179e\"], [0.4444444444444444, \"#bd3786\"], [0.5555555555555556, \"#d8576b\"], [0.6666666666666666, \"#ed7953\"], [0.7777777777777778, \"#fb9f3a\"], [0.8888888888888888, \"#fdca26\"], [1.0, \"#f0f921\"]], \"type\": \"heatmap\"}], \"heatmapgl\": [{\"colorbar\": {\"outlinewidth\": 0, \"ticks\": \"\"}, \"colorscale\": [[0.0, \"#0d0887\"], [0.1111111111111111, \"#46039f\"], [0.2222222222222222, \"#7201a8\"], [0.3333333333333333, \"#9c179e\"], [0.4444444444444444, \"#bd3786\"], [0.5555555555555556, \"#d8576b\"], [0.6666666666666666, \"#ed7953\"], [0.7777777777777778, \"#fb9f3a\"], [0.8888888888888888, \"#fdca26\"], [1.0, \"#f0f921\"]], \"type\": \"heatmapgl\"}], \"histogram\": [{\"marker\": {\"colorbar\": {\"outlinewidth\": 0, \"ticks\": \"\"}}, \"type\": \"histogram\"}], \"histogram2d\": [{\"colorbar\": {\"outlinewidth\": 0, \"ticks\": \"\"}, \"colorscale\": [[0.0, \"#0d0887\"], [0.1111111111111111, \"#46039f\"], [0.2222222222222222, \"#7201a8\"], [0.3333333333333333, \"#9c179e\"], [0.4444444444444444, \"#bd3786\"], [0.5555555555555556, \"#d8576b\"], [0.6666666666666666, \"#ed7953\"], [0.7777777777777778, \"#fb9f3a\"], [0.8888888888888888, \"#fdca26\"], [1.0, \"#f0f921\"]], \"type\": \"histogram2d\"}], \"histogram2dcontour\": [{\"colorbar\": {\"outlinewidth\": 0, \"ticks\": \"\"}, \"colorscale\": [[0.0, \"#0d0887\"], [0.1111111111111111, \"#46039f\"], [0.2222222222222222, \"#7201a8\"], [0.3333333333333333, \"#9c179e\"], [0.4444444444444444, \"#bd3786\"], [0.5555555555555556, \"#d8576b\"], [0.6666666666666666, \"#ed7953\"], [0.7777777777777778, \"#fb9f3a\"], [0.8888888888888888, \"#fdca26\"], [1.0, \"#f0f921\"]], \"type\": \"histogram2dcontour\"}], \"mesh3d\": [{\"colorbar\": {\"outlinewidth\": 0, \"ticks\": \"\"}, \"type\": \"mesh3d\"}], \"parcoords\": [{\"line\": {\"colorbar\": {\"outlinewidth\": 0, \"ticks\": \"\"}}, \"type\": \"parcoords\"}], \"pie\": [{\"automargin\": true, \"type\": \"pie\"}], \"scatter\": [{\"marker\": {\"colorbar\": {\"outlinewidth\": 0, \"ticks\": \"\"}}, \"type\": \"scatter\"}], \"scatter3d\": [{\"line\": {\"colorbar\": {\"outlinewidth\": 0, \"ticks\": \"\"}}, \"marker\": {\"colorbar\": {\"outlinewidth\": 0, \"ticks\": \"\"}}, \"type\": \"scatter3d\"}], \"scattercarpet\": [{\"marker\": {\"colorbar\": {\"outlinewidth\": 0, \"ticks\": \"\"}}, \"type\": \"scattercarpet\"}], \"scattergeo\": [{\"marker\": {\"colorbar\": {\"outlinewidth\": 0, \"ticks\": \"\"}}, \"type\": \"scattergeo\"}], \"scattergl\": [{\"marker\": {\"colorbar\": {\"outlinewidth\": 0, \"ticks\": \"\"}}, \"type\": \"scattergl\"}], \"scattermapbox\": [{\"marker\": {\"colorbar\": {\"outlinewidth\": 0, \"ticks\": \"\"}}, \"type\": \"scattermapbox\"}], \"scatterpolar\": [{\"marker\": {\"colorbar\": {\"outlinewidth\": 0, \"ticks\": \"\"}}, \"type\": \"scatterpolar\"}], \"scatterpolargl\": [{\"marker\": {\"colorbar\": {\"outlinewidth\": 0, \"ticks\": \"\"}}, \"type\": \"scatterpolargl\"}], \"scatterternary\": [{\"marker\": {\"colorbar\": {\"outlinewidth\": 0, \"ticks\": \"\"}}, \"type\": \"scatterternary\"}], \"surface\": [{\"colorbar\": {\"outlinewidth\": 0, \"ticks\": \"\"}, \"colorscale\": [[0.0, \"#0d0887\"], [0.1111111111111111, \"#46039f\"], [0.2222222222222222, \"#7201a8\"], [0.3333333333333333, \"#9c179e\"], [0.4444444444444444, \"#bd3786\"], [0.5555555555555556, \"#d8576b\"], [0.6666666666666666, \"#ed7953\"], [0.7777777777777778, \"#fb9f3a\"], [0.8888888888888888, \"#fdca26\"], [1.0, \"#f0f921\"]], \"type\": \"surface\"}], \"table\": [{\"cells\": {\"fill\": {\"color\": \"#EBF0F8\"}, \"line\": {\"color\": \"white\"}}, \"header\": {\"fill\": {\"color\": \"#C8D4E3\"}, \"line\": {\"color\": \"white\"}}, \"type\": \"table\"}]}, \"layout\": {\"annotationdefaults\": {\"arrowcolor\": \"#2a3f5f\", \"arrowhead\": 0, \"arrowwidth\": 1}, \"coloraxis\": {\"colorbar\": {\"outlinewidth\": 0, \"ticks\": \"\"}}, \"colorscale\": {\"diverging\": [[0, \"#8e0152\"], [0.1, \"#c51b7d\"], [0.2, \"#de77ae\"], [0.3, \"#f1b6da\"], [0.4, \"#fde0ef\"], [0.5, \"#f7f7f7\"], [0.6, \"#e6f5d0\"], [0.7, \"#b8e186\"], [0.8, \"#7fbc41\"], [0.9, \"#4d9221\"], [1, \"#276419\"]], \"sequential\": [[0.0, \"#0d0887\"], [0.1111111111111111, \"#46039f\"], [0.2222222222222222, \"#7201a8\"], [0.3333333333333333, \"#9c179e\"], [0.4444444444444444, \"#bd3786\"], [0.5555555555555556, \"#d8576b\"], [0.6666666666666666, \"#ed7953\"], [0.7777777777777778, \"#fb9f3a\"], [0.8888888888888888, \"#fdca26\"], [1.0, \"#f0f921\"]], \"sequentialminus\": [[0.0, \"#0d0887\"], [0.1111111111111111, \"#46039f\"], [0.2222222222222222, \"#7201a8\"], [0.3333333333333333, \"#9c179e\"], [0.4444444444444444, \"#bd3786\"], [0.5555555555555556, \"#d8576b\"], [0.6666666666666666, \"#ed7953\"], [0.7777777777777778, \"#fb9f3a\"], [0.8888888888888888, \"#fdca26\"], [1.0, \"#f0f921\"]]}, \"colorway\": [\"#636efa\", \"#EF553B\", \"#00cc96\", \"#ab63fa\", \"#FFA15A\", \"#19d3f3\", \"#FF6692\", \"#B6E880\", \"#FF97FF\", \"#FECB52\"], \"font\": {\"color\": \"#2a3f5f\"}, \"geo\": {\"bgcolor\": \"white\", \"lakecolor\": \"white\", \"landcolor\": \"#E5ECF6\", \"showlakes\": true, \"showland\": true, \"subunitcolor\": \"white\"}, \"hoverlabel\": {\"align\": \"left\"}, \"hovermode\": \"closest\", \"mapbox\": {\"style\": \"light\"}, \"paper_bgcolor\": \"white\", \"plot_bgcolor\": \"#E5ECF6\", \"polar\": {\"angularaxis\": {\"gridcolor\": \"white\", \"linecolor\": \"white\", \"ticks\": \"\"}, \"bgcolor\": \"#E5ECF6\", \"radialaxis\": {\"gridcolor\": \"white\", \"linecolor\": \"white\", \"ticks\": \"\"}}, \"scene\": {\"xaxis\": {\"backgroundcolor\": \"#E5ECF6\", \"gridcolor\": \"white\", \"gridwidth\": 2, \"linecolor\": \"white\", \"showbackground\": true, \"ticks\": \"\", \"zerolinecolor\": \"white\"}, \"yaxis\": {\"backgroundcolor\": \"#E5ECF6\", \"gridcolor\": \"white\", \"gridwidth\": 2, \"linecolor\": \"white\", \"showbackground\": true, \"ticks\": \"\", \"zerolinecolor\": \"white\"}, \"zaxis\": {\"backgroundcolor\": \"#E5ECF6\", \"gridcolor\": \"white\", \"gridwidth\": 2, \"linecolor\": \"white\", \"showbackground\": true, \"ticks\": \"\", \"zerolinecolor\": \"white\"}}, \"shapedefaults\": {\"line\": {\"color\": \"#2a3f5f\"}}, \"ternary\": {\"aaxis\": {\"gridcolor\": \"white\", \"linecolor\": \"white\", \"ticks\": \"\"}, \"baxis\": {\"gridcolor\": \"white\", \"linecolor\": \"white\", \"ticks\": \"\"}, \"bgcolor\": \"#E5ECF6\", \"caxis\": {\"gridcolor\": \"white\", \"linecolor\": \"white\", \"ticks\": \"\"}}, \"title\": {\"x\": 0.05}, \"xaxis\": {\"automargin\": true, \"gridcolor\": \"white\", \"linecolor\": \"white\", \"ticks\": \"\", \"title\": {\"standoff\": 15}, \"zerolinecolor\": \"white\", \"zerolinewidth\": 2}, \"yaxis\": {\"automargin\": true, \"gridcolor\": \"white\", \"linecolor\": \"white\", \"ticks\": \"\", \"title\": {\"standoff\": 15}, \"zerolinecolor\": \"white\", \"zerolinewidth\": 2}}}, \"title\": {\"text\": \"Market Sellers, Average Price vs Total Sales\"}, \"xaxis\": {\"anchor\": \"y\", \"domain\": [0.0, 1.0], \"title\": {\"text\": \"average_price\"}}, \"yaxis\": {\"anchor\": \"x\", \"domain\": [0.0, 1.0], \"title\": {\"text\": \"total_sales\"}}},\n",
              "                        {\"responsive\": true}\n",
              "                    ).then(function(){\n",
              "                            \n",
              "var gd = document.getElementById('1f598b88-030f-4007-8482-b1fc33b96e54');\n",
              "var x = new MutationObserver(function (mutations, observer) {{\n",
              "        var display = window.getComputedStyle(gd).display;\n",
              "        if (!display || display === 'none') {{\n",
              "            console.log([gd, 'removed!']);\n",
              "            Plotly.purge(gd);\n",
              "            observer.disconnect();\n",
              "        }}\n",
              "}});\n",
              "\n",
              "// Listen for the removal of the full notebook cells\n",
              "var notebookContainer = gd.closest('#notebook-container');\n",
              "if (notebookContainer) {{\n",
              "    x.observe(notebookContainer, {childList: true});\n",
              "}}\n",
              "\n",
              "// Listen for the clearing of the current output cell\n",
              "var outputEl = gd.closest('.output');\n",
              "if (outputEl) {{\n",
              "    x.observe(outputEl, {childList: true});\n",
              "}}\n",
              "\n",
              "                        })\n",
              "                };\n",
              "                \n",
              "            </script>\n",
              "        </div>\n",
              "</body>\n",
              "</html>"
            ]
          },
          "metadata": {
            "tags": []
          }
        }
      ]
    },
    {
      "cell_type": "code",
      "metadata": {
        "pycharm": {
          "name": "#%%\n"
        },
        "id": "-ZvgwKyKJIlS",
        "colab_type": "code",
        "outputId": "053551d2-ef32-4361-c6eb-bf6f985898a4",
        "colab": {
          "base_uri": "https://localhost:8080/",
          "height": 722
        }
      },
      "source": [
        "fig = px.scatter_3d(seller_list, x=\"average_price\", y=\"total_sales\", z=\"advert_count\", color=\"substances_sold\", hover_name=seller_list.index, hover_data=[\"total_sales\", \"advert_count\", \"average_price\", \"substances_sold\", \"cloned_count\"])\n",
        "fig.update_layout(title=\"Market Sellers, Average Price, Total Sale, and Count of Substance Sold\")\n",
        "fig.show()\n",
        "\n",
        "'''username = 'HIDDEN'\n",
        "api_key = 'HIDDEN'\n",
        "chart_studio.tools.set_credentials_file(username=username, api_key=api_key)'''\n",
        "\n",
        "py.plot(fig, filename = 'seller_scatter', auto_open=True)"
      ],
      "execution_count": 0,
      "outputs": [
        {
          "output_type": "display_data",
          "data": {
            "text/html": [
              "<html>\n",
              "<head><meta charset=\"utf-8\" /></head>\n",
              "<body>\n",
              "    <div>\n",
              "            <script src=\"https://cdnjs.cloudflare.com/ajax/libs/mathjax/2.7.5/MathJax.js?config=TeX-AMS-MML_SVG\"></script><script type=\"text/javascript\">if (window.MathJax) {MathJax.Hub.Config({SVG: {font: \"STIX-Web\"}});}</script>\n",
              "                <script type=\"text/javascript\">window.PlotlyConfig = {MathJaxConfig: 'local'};</script>\n",
              "        <script src=\"https://cdn.plot.ly/plotly-latest.min.js\"></script>    \n",
              "            <div id=\"ae4f8abd-a324-4cc7-aa31-0915db062fcc\" class=\"plotly-graph-div\" style=\"height:525px; width:100%;\"></div>\n",
              "            <script type=\"text/javascript\">\n",
              "                \n",
              "                    window.PLOTLYENV=window.PLOTLYENV || {};\n",
              "                    \n",
              "                if (document.getElementById(\"ae4f8abd-a324-4cc7-aa31-0915db062fcc\")) {\n",
              "                    Plotly.newPlot(\n",
              "                        'ae4f8abd-a324-4cc7-aa31-0915db062fcc',\n",
              "                        [{\"customdata\": [[0.0, 1.0, 5.0, 1.0, 1.0], [47.0, 35.0, 86.30742857142855, 10.0, 35.0], [1.0, 25.0, 485.6, 4.0, 25.0], [1.0, 1.0, 21.6, 1.0, 1.0], [0.0, 16.0, 1106.25, 10.0, 16.0], [10.0, 15.0, 10.530000000000001, 2.0, 15.0], [2.0, 15.0, 311.68800000000005, 2.0, 15.0], [27.0, 14.0, 158.3392857142857, 2.0, 14.0], [9.0, 9.0, 64.11555555555555, 3.0, 9.0], [62.0, 67.0, 5407.731343283582, 6.0, 67.0], [0.0, 4.0, 95.0, 1.0, 4.0], [10.0, 12.0, 78.595, 4.0, 12.0], [1.0, 11.0, 72.0909090909091, 7.0, 11.0], [2.0, 7.0, 19.131428571428575, 3.0, 7.0], [0.0, 14.0, 303.1714285714285, 3.0, 14.0], [0.0, 4.0, 26.25, 1.0, 4.0], [0.0, 5.0, 61.12800000000001, 2.0, 5.0], [8.0, 14.0, 426.0, 3.0, 14.0], [0.0, 8.0, 131.91750000000002, 1.0, 8.0], [1.0, 20.0, 259.0, 8.0, 20.0], [5.0, 27.0, 166.68000000000004, 7.0, 27.0], [0.0, 6.0, 2.6666666666666665, 3.0, 6.0], [0.0, 3.0, 60.0, 2.0, 3.0], [0.0, 19.0, 185.0, 9.0, 19.0], [0.0, 5.0, 249.26399999999998, 1.0, 1.0], [2.0, 11.0, 597.7272727272727, 3.0, 11.0], [2.0, 12.0, 116.58749999999999, 5.0, 12.0], [3.0, 57.0, 269.03508771929825, 5.0, 57.0], [9.0, 6.0, 124.97333333333334, 1.0, 6.0], [13.0, 32.0, 34.508125, 5.0, 32.0], [0.0, 1.0, 41.04, 1.0, 1.0], [0.0, 8.0, 452.5, 5.0, 8.0], [73.0, 81.0, 1237.0744444444451, 7.0, 81.0], [4.0, 37.0, 1065.3762162162163, 4.0, 37.0], [1.0, 2.0, 190.5, 2.0, 2.0], [0.0, 2.0, 95.0, 2.0, 2.0], [0.0, 1.0, 150.0, 1.0, 1.0], [9.0, 12.0, 113.7625, 2.0, 12.0], [0.0, 8.0, 48.85000000000001, 2.0, 8.0], [3.0, 381.0, 309.84251968503935, 8.0, 381.0], [136.0, 105.0, 1734.4902857142858, 8.0, 105.0], [1.0, 4.0, 171.25, 1.0, 4.0], [46.0, 49.0, 229.09061224489793, 9.0, 49.0], [1.0, 11.0, 466.8545454545454, 2.0, 11.0], [84.0, 39.0, 345.1053846153845, 7.0, 39.0], [3.0, 35.0, 30.771428571428572, 10.0, 35.0], [0.0, 9.0, 350.0, 2.0, 9.0], [0.0, 4.0, 501.0, 4.0, 4.0], [7.0, 25.0, 33.76, 10.0, 25.0], [2.0, 41.0, 349.1951219512195, 7.0, 41.0], [9.0, 62.0, 1045.62435483871, 6.0, 62.0], [0.0, 5.0, 326.534, 1.0, 5.0], [0.0, 5.0, 157.99399999999997, 1.0, 5.0], [0.0, 6.0, 380.7, 2.0, 6.0], [0.0, 60.0, 78.18333333333334, 14.0, 60.0], [0.0, 4.0, 1175.0, 3.0, 4.0], [0.0, 2.0, 8.64, 1.0, 2.0], [4.0, 19.0, 2029.3200000000002, 2.0, 19.0], [0.0, 28.0, 1917.1928571428568, 6.0, 28.0], [0.0, 7.0, 71.28, 1.0, 7.0], [0.0, 9.0, 495.35999999999996, 1.0, 9.0], [0.0, 7.0, 1210.0, 5.0, 7.0], [3.0, 14.0, 18.09, 4.0, 14.0], [2.0, 33.0, 420.7745454545455, 3.0, 33.0], [1.0, 11.0, 426.3636363636364, 2.0, 11.0], [0.0, 1.0, 30.0, 1.0, 1.0], [0.0, 18.0, 19.22222222222222, 10.0, 18.0], [12.0, 16.0, 13.5625, 8.0, 16.0], [0.0, 2.0, 240.0, 2.0, 2.0], [1.0, 115.0, 92.64347826086957, 4.0, 115.0], [36.0, 42.0, 409.2685714285715, 3.0, 42.0], [1.0, 5.0, 360.0, 2.0, 5.0], [1.0, 16.0, 386.0, 7.0, 16.0], [1.0, 109.0, 712.4770642201835, 13.0, 109.0], [0.0, 61.0, 605.7377049180328, 8.0, 61.0], [13.0, 20.0, 270.5, 11.0, 20.0], [1.0, 190.0, 254.9, 8.0, 190.0], [1.0, 10.0, 49.0, 4.0, 10.0], [0.0, 8.0, 711.7375, 1.0, 8.0], [0.0, 25.0, 994.0, 7.0, 22.0], [0.0, 38.0, 737.8947368421053, 11.0, 38.0], [0.0, 21.0, 378.23809523809524, 7.0, 15.0], [1.0, 11.0, 537.2727272727273, 5.0, 11.0], [1.0, 35.0, 62.02857142857143, 4.0, 35.0], [10.0, 24.0, 71.24833333333333, 5.0, 24.0], [4.0, 404.0, 43.3490099009901, 5.0, 363.0], [6.0, 12.0, 475.0, 8.0, 12.0], [2.0, 17.0, 381.70588235294116, 6.0, 17.0], [19.0, 191.0, 449.71204188481676, 11.0, 191.0], [8.0, 9.0, 37.55555555555556, 7.0, 9.0], [0.0, 9.0, 372.22222222222223, 4.0, 9.0], [6.0, 5.0, 106.89200000000001, 1.0, 5.0], [28.0, 94.0, 86.13574468085108, 10.0, 94.0], [0.0, 14.0, 466.42857142857144, 7.0, 14.0], [7.0, 25.0, 145.32479999999998, 6.0, 25.0]], \"hoverlabel\": {\"namelength\": 0}, \"hovertemplate\": \"<b>%{hovertext}</b><br><br>average_price=%{customdata[2]}<br>total_sales=%{customdata[0]}<br>advert_count=%{customdata[1]}<br>substances_sold=%{marker.color}<br>cloned_count=%{customdata[4]}\", \"hovertext\": [\"8drugsafe\", \"AmsterdamLiquidXno1\", \"Andersonship\", \"Balenciaga\", \"BeastoFallNations\", \"BenzoBearUK\", \"BreakingCrack1\", \"ChampagnePapi\", \"Concepts\", \"CryptoCurrency\", \"DaDankStore\", \"DreamWeaver\", \"Dreamer01\", \"DrugzUnited\", \"DutchMastersUK\", \"DutchReller\", \"FlyingDrugzMan\", \"Fragrantuntidy\", \"GRUENEWALDSCAVE\", \"Godbless\", \"GreenSupreme\", \"HeartKidnapper\", \"HeavyHitters\", \"Hilfiger\", \"Kerets\", \"LabTested\", \"MisterMolly\", \"Moreplug\", \"MrGrumpy\", \"NeighbourJimiNL\", \"PSteroids\", \"Rearvendor\", \"Sankhara\", \"ShinyFlakez\", \"Suriv01\", \"SweetGIRL\", \"TGC-RC\", \"TopshopUK\", \"UKCheese\", \"UStoUS\", \"WeAreAMSTERDAM\", \"WeDoWork\", \"Wvanoranje\", \"XXXXTentacion\", \"YourConnectPL\", \"alphapharmacy\", \"bestshop\", \"bestvendor420\", \"biopharmacy\", \"bitcoinshop\", \"bluemagic\", \"californialuv\", \"charching187\", \"chemicals_spain\", \"chernobyl\", \"comeshop\", \"darkweeder\", \"deutschepost\", \"drugsource\", \"ghostbusterz\", \"godelicious\", \"greenjake\", \"greenpirate\", \"hollandcasino\", \"jefery09\", \"kim0ra\", \"legitmaker\", \"mariam1998\", \"massiveshop\", \"myrebirth\", \"mysteryland\", \"myteam\", \"mytrade15\", \"navas\", \"navas90\", \"nextdayteam\", \"pharmawebking2\", \"portablerail\", \"probitexchange\", \"quick45\", \"rockstar\", \"rosemanket\", \"shoprite\", \"spicypharmacy\", \"strassenapo\", \"supremepharma\", \"thegoodboys\", \"thewalker\", \"usdrill\", \"vasyapokriskin\", \"waymaker\", \"whitelabel\", \"wochris\", \"worldtrade\", \"yourfinest\"], \"legendgroup\": \"\", \"marker\": {\"color\": [1, 10, 4, 1, 10, 2, 2, 2, 3, 6, 1, 4, 7, 3, 3, 1, 2, 3, 1, 8, 7, 3, 2, 9, 1, 3, 5, 5, 1, 5, 1, 5, 7, 4, 2, 2, 1, 2, 2, 8, 8, 1, 9, 2, 7, 10, 2, 4, 10, 7, 6, 1, 1, 2, 14, 3, 1, 2, 6, 1, 1, 5, 4, 3, 2, 1, 10, 8, 2, 4, 3, 2, 7, 13, 8, 11, 8, 4, 1, 7, 11, 7, 5, 4, 5, 5, 8, 6, 11, 7, 4, 1, 10, 7, 6], \"coloraxis\": \"coloraxis\", \"symbol\": \"circle\"}, \"mode\": \"markers\", \"name\": \"\", \"scene\": \"scene\", \"showlegend\": false, \"type\": \"scatter3d\", \"x\": [5.0, 86.30742857142855, 485.6, 21.6, 1106.25, 10.530000000000001, 311.68800000000005, 158.3392857142857, 64.11555555555555, 5407.731343283582, 95.0, 78.595, 72.0909090909091, 19.131428571428575, 303.1714285714285, 26.25, 61.12800000000001, 426.0, 131.91750000000002, 259.0, 166.68000000000004, 2.6666666666666665, 60.0, 185.0, 249.26399999999998, 597.7272727272727, 116.58749999999999, 269.03508771929825, 124.97333333333334, 34.508125, 41.04, 452.5, 1237.0744444444451, 1065.3762162162163, 190.5, 95.0, 150.0, 113.7625, 48.85000000000001, 309.84251968503935, 1734.4902857142858, 171.25, 229.09061224489793, 466.8545454545454, 345.1053846153845, 30.771428571428572, 350.0, 501.0, 33.76, 349.1951219512195, 1045.62435483871, 326.534, 157.99399999999997, 380.7, 78.18333333333334, 1175.0, 8.64, 2029.3200000000002, 1917.1928571428568, 71.28, 495.35999999999996, 1210.0, 18.09, 420.7745454545455, 426.3636363636364, 30.0, 19.22222222222222, 13.5625, 240.0, 92.64347826086957, 409.2685714285715, 360.0, 386.0, 712.4770642201835, 605.7377049180328, 270.5, 254.9, 49.0, 711.7375, 994.0, 737.8947368421053, 378.23809523809524, 537.2727272727273, 62.02857142857143, 71.24833333333333, 43.3490099009901, 475.0, 381.70588235294116, 449.71204188481676, 37.55555555555556, 372.22222222222223, 106.89200000000001, 86.13574468085108, 466.42857142857144, 145.32479999999998], \"y\": [0, 47, 1, 1, 0, 10, 2, 27, 9, 62, 0, 10, 1, 2, 0, 0, 0, 8, 0, 1, 5, 0, 0, 0, 0, 2, 2, 3, 9, 13, 0, 0, 73, 4, 1, 0, 0, 9, 0, 3, 136, 1, 46, 1, 84, 3, 0, 0, 7, 2, 9, 0, 0, 0, 0, 0, 0, 4, 0, 0, 0, 0, 3, 2, 1, 0, 0, 12, 0, 1, 36, 1, 1, 1, 0, 13, 1, 1, 0, 0, 0, 0, 1, 1, 10, 4, 6, 2, 19, 8, 0, 6, 28, 0, 7], \"z\": [1, 35, 25, 1, 16, 15, 15, 14, 9, 67, 4, 12, 11, 7, 14, 4, 5, 14, 8, 20, 27, 6, 3, 19, 5, 11, 12, 57, 6, 32, 1, 8, 81, 37, 2, 2, 1, 12, 8, 381, 105, 4, 49, 11, 39, 35, 9, 4, 25, 41, 62, 5, 5, 6, 60, 4, 2, 19, 28, 7, 9, 7, 14, 33, 11, 1, 18, 16, 2, 115, 42, 5, 16, 109, 61, 20, 190, 10, 8, 25, 38, 21, 11, 35, 24, 404, 12, 17, 191, 9, 9, 5, 94, 14, 25]}],\n",
              "                        {\"coloraxis\": {\"colorbar\": {\"title\": {\"text\": \"substances_sold\"}}, \"colorscale\": [[0.0, \"#0d0887\"], [0.1111111111111111, \"#46039f\"], [0.2222222222222222, \"#7201a8\"], [0.3333333333333333, \"#9c179e\"], [0.4444444444444444, \"#bd3786\"], [0.5555555555555556, \"#d8576b\"], [0.6666666666666666, \"#ed7953\"], [0.7777777777777778, \"#fb9f3a\"], [0.8888888888888888, \"#fdca26\"], [1.0, \"#f0f921\"]]}, \"legend\": {\"tracegroupgap\": 0}, \"margin\": {\"t\": 60}, \"scene\": {\"domain\": {\"x\": [0.0, 1.0], \"y\": [0.0, 1.0]}, \"xaxis\": {\"title\": {\"text\": \"average_price\"}}, \"yaxis\": {\"title\": {\"text\": \"total_sales\"}}, \"zaxis\": {\"title\": {\"text\": \"advert_count\"}}}, \"template\": {\"data\": {\"bar\": [{\"error_x\": {\"color\": \"#2a3f5f\"}, \"error_y\": {\"color\": \"#2a3f5f\"}, \"marker\": {\"line\": {\"color\": \"#E5ECF6\", \"width\": 0.5}}, \"type\": \"bar\"}], \"barpolar\": [{\"marker\": {\"line\": {\"color\": \"#E5ECF6\", \"width\": 0.5}}, \"type\": \"barpolar\"}], \"carpet\": [{\"aaxis\": {\"endlinecolor\": \"#2a3f5f\", \"gridcolor\": \"white\", \"linecolor\": \"white\", \"minorgridcolor\": \"white\", \"startlinecolor\": \"#2a3f5f\"}, \"baxis\": {\"endlinecolor\": \"#2a3f5f\", \"gridcolor\": \"white\", \"linecolor\": \"white\", \"minorgridcolor\": \"white\", \"startlinecolor\": \"#2a3f5f\"}, \"type\": \"carpet\"}], \"choropleth\": [{\"colorbar\": {\"outlinewidth\": 0, \"ticks\": \"\"}, \"type\": \"choropleth\"}], \"contour\": [{\"colorbar\": {\"outlinewidth\": 0, \"ticks\": \"\"}, \"colorscale\": [[0.0, \"#0d0887\"], [0.1111111111111111, \"#46039f\"], [0.2222222222222222, \"#7201a8\"], [0.3333333333333333, \"#9c179e\"], [0.4444444444444444, \"#bd3786\"], [0.5555555555555556, \"#d8576b\"], [0.6666666666666666, \"#ed7953\"], [0.7777777777777778, \"#fb9f3a\"], [0.8888888888888888, \"#fdca26\"], [1.0, \"#f0f921\"]], \"type\": \"contour\"}], \"contourcarpet\": [{\"colorbar\": {\"outlinewidth\": 0, \"ticks\": \"\"}, \"type\": \"contourcarpet\"}], \"heatmap\": [{\"colorbar\": {\"outlinewidth\": 0, \"ticks\": \"\"}, \"colorscale\": [[0.0, \"#0d0887\"], [0.1111111111111111, \"#46039f\"], [0.2222222222222222, \"#7201a8\"], [0.3333333333333333, \"#9c179e\"], [0.4444444444444444, \"#bd3786\"], [0.5555555555555556, \"#d8576b\"], [0.6666666666666666, \"#ed7953\"], [0.7777777777777778, \"#fb9f3a\"], [0.8888888888888888, \"#fdca26\"], [1.0, \"#f0f921\"]], \"type\": \"heatmap\"}], \"heatmapgl\": [{\"colorbar\": {\"outlinewidth\": 0, \"ticks\": \"\"}, \"colorscale\": [[0.0, \"#0d0887\"], [0.1111111111111111, \"#46039f\"], [0.2222222222222222, \"#7201a8\"], [0.3333333333333333, \"#9c179e\"], [0.4444444444444444, \"#bd3786\"], [0.5555555555555556, \"#d8576b\"], [0.6666666666666666, \"#ed7953\"], [0.7777777777777778, \"#fb9f3a\"], [0.8888888888888888, \"#fdca26\"], [1.0, \"#f0f921\"]], \"type\": \"heatmapgl\"}], \"histogram\": [{\"marker\": {\"colorbar\": {\"outlinewidth\": 0, \"ticks\": \"\"}}, \"type\": \"histogram\"}], \"histogram2d\": [{\"colorbar\": {\"outlinewidth\": 0, \"ticks\": \"\"}, \"colorscale\": [[0.0, \"#0d0887\"], [0.1111111111111111, \"#46039f\"], [0.2222222222222222, \"#7201a8\"], [0.3333333333333333, \"#9c179e\"], [0.4444444444444444, \"#bd3786\"], [0.5555555555555556, \"#d8576b\"], [0.6666666666666666, \"#ed7953\"], [0.7777777777777778, \"#fb9f3a\"], [0.8888888888888888, \"#fdca26\"], [1.0, \"#f0f921\"]], \"type\": \"histogram2d\"}], \"histogram2dcontour\": [{\"colorbar\": {\"outlinewidth\": 0, \"ticks\": \"\"}, \"colorscale\": [[0.0, \"#0d0887\"], [0.1111111111111111, \"#46039f\"], [0.2222222222222222, \"#7201a8\"], [0.3333333333333333, \"#9c179e\"], [0.4444444444444444, \"#bd3786\"], [0.5555555555555556, \"#d8576b\"], [0.6666666666666666, \"#ed7953\"], [0.7777777777777778, \"#fb9f3a\"], [0.8888888888888888, \"#fdca26\"], [1.0, \"#f0f921\"]], \"type\": \"histogram2dcontour\"}], \"mesh3d\": [{\"colorbar\": {\"outlinewidth\": 0, \"ticks\": \"\"}, \"type\": \"mesh3d\"}], \"parcoords\": [{\"line\": {\"colorbar\": {\"outlinewidth\": 0, \"ticks\": \"\"}}, \"type\": \"parcoords\"}], \"pie\": [{\"automargin\": true, \"type\": \"pie\"}], \"scatter\": [{\"marker\": {\"colorbar\": {\"outlinewidth\": 0, \"ticks\": \"\"}}, \"type\": \"scatter\"}], \"scatter3d\": [{\"line\": {\"colorbar\": {\"outlinewidth\": 0, \"ticks\": \"\"}}, \"marker\": {\"colorbar\": {\"outlinewidth\": 0, \"ticks\": \"\"}}, \"type\": \"scatter3d\"}], \"scattercarpet\": [{\"marker\": {\"colorbar\": {\"outlinewidth\": 0, \"ticks\": \"\"}}, \"type\": \"scattercarpet\"}], \"scattergeo\": [{\"marker\": {\"colorbar\": {\"outlinewidth\": 0, \"ticks\": \"\"}}, \"type\": \"scattergeo\"}], \"scattergl\": [{\"marker\": {\"colorbar\": {\"outlinewidth\": 0, \"ticks\": \"\"}}, \"type\": \"scattergl\"}], \"scattermapbox\": [{\"marker\": {\"colorbar\": {\"outlinewidth\": 0, \"ticks\": \"\"}}, \"type\": \"scattermapbox\"}], \"scatterpolar\": [{\"marker\": {\"colorbar\": {\"outlinewidth\": 0, \"ticks\": \"\"}}, \"type\": \"scatterpolar\"}], \"scatterpolargl\": [{\"marker\": {\"colorbar\": {\"outlinewidth\": 0, \"ticks\": \"\"}}, \"type\": \"scatterpolargl\"}], \"scatterternary\": [{\"marker\": {\"colorbar\": {\"outlinewidth\": 0, \"ticks\": \"\"}}, \"type\": \"scatterternary\"}], \"surface\": [{\"colorbar\": {\"outlinewidth\": 0, \"ticks\": \"\"}, \"colorscale\": [[0.0, \"#0d0887\"], [0.1111111111111111, \"#46039f\"], [0.2222222222222222, \"#7201a8\"], [0.3333333333333333, \"#9c179e\"], [0.4444444444444444, \"#bd3786\"], [0.5555555555555556, \"#d8576b\"], [0.6666666666666666, \"#ed7953\"], [0.7777777777777778, \"#fb9f3a\"], [0.8888888888888888, \"#fdca26\"], [1.0, \"#f0f921\"]], \"type\": \"surface\"}], \"table\": [{\"cells\": {\"fill\": {\"color\": \"#EBF0F8\"}, \"line\": {\"color\": \"white\"}}, \"header\": {\"fill\": {\"color\": \"#C8D4E3\"}, \"line\": {\"color\": \"white\"}}, \"type\": \"table\"}]}, \"layout\": {\"annotationdefaults\": {\"arrowcolor\": \"#2a3f5f\", \"arrowhead\": 0, \"arrowwidth\": 1}, \"coloraxis\": {\"colorbar\": {\"outlinewidth\": 0, \"ticks\": \"\"}}, \"colorscale\": {\"diverging\": [[0, \"#8e0152\"], [0.1, \"#c51b7d\"], [0.2, \"#de77ae\"], [0.3, \"#f1b6da\"], [0.4, \"#fde0ef\"], [0.5, \"#f7f7f7\"], [0.6, \"#e6f5d0\"], [0.7, \"#b8e186\"], [0.8, \"#7fbc41\"], [0.9, \"#4d9221\"], [1, \"#276419\"]], \"sequential\": [[0.0, \"#0d0887\"], [0.1111111111111111, \"#46039f\"], [0.2222222222222222, \"#7201a8\"], [0.3333333333333333, \"#9c179e\"], [0.4444444444444444, \"#bd3786\"], [0.5555555555555556, \"#d8576b\"], [0.6666666666666666, \"#ed7953\"], [0.7777777777777778, \"#fb9f3a\"], [0.8888888888888888, \"#fdca26\"], [1.0, \"#f0f921\"]], \"sequentialminus\": [[0.0, \"#0d0887\"], [0.1111111111111111, \"#46039f\"], [0.2222222222222222, \"#7201a8\"], [0.3333333333333333, \"#9c179e\"], [0.4444444444444444, \"#bd3786\"], [0.5555555555555556, \"#d8576b\"], [0.6666666666666666, \"#ed7953\"], [0.7777777777777778, \"#fb9f3a\"], [0.8888888888888888, \"#fdca26\"], [1.0, \"#f0f921\"]]}, \"colorway\": [\"#636efa\", \"#EF553B\", \"#00cc96\", \"#ab63fa\", \"#FFA15A\", \"#19d3f3\", \"#FF6692\", \"#B6E880\", \"#FF97FF\", \"#FECB52\"], \"font\": {\"color\": \"#2a3f5f\"}, \"geo\": {\"bgcolor\": \"white\", \"lakecolor\": \"white\", \"landcolor\": \"#E5ECF6\", \"showlakes\": true, \"showland\": true, \"subunitcolor\": \"white\"}, \"hoverlabel\": {\"align\": \"left\"}, \"hovermode\": \"closest\", \"mapbox\": {\"style\": \"light\"}, \"paper_bgcolor\": \"white\", \"plot_bgcolor\": \"#E5ECF6\", \"polar\": {\"angularaxis\": {\"gridcolor\": \"white\", \"linecolor\": \"white\", \"ticks\": \"\"}, \"bgcolor\": \"#E5ECF6\", \"radialaxis\": {\"gridcolor\": \"white\", \"linecolor\": \"white\", \"ticks\": \"\"}}, \"scene\": {\"xaxis\": {\"backgroundcolor\": \"#E5ECF6\", \"gridcolor\": \"white\", \"gridwidth\": 2, \"linecolor\": \"white\", \"showbackground\": true, \"ticks\": \"\", \"zerolinecolor\": \"white\"}, \"yaxis\": {\"backgroundcolor\": \"#E5ECF6\", \"gridcolor\": \"white\", \"gridwidth\": 2, \"linecolor\": \"white\", \"showbackground\": true, \"ticks\": \"\", \"zerolinecolor\": \"white\"}, \"zaxis\": {\"backgroundcolor\": \"#E5ECF6\", \"gridcolor\": \"white\", \"gridwidth\": 2, \"linecolor\": \"white\", \"showbackground\": true, \"ticks\": \"\", \"zerolinecolor\": \"white\"}}, \"shapedefaults\": {\"line\": {\"color\": \"#2a3f5f\"}}, \"ternary\": {\"aaxis\": {\"gridcolor\": \"white\", \"linecolor\": \"white\", \"ticks\": \"\"}, \"baxis\": {\"gridcolor\": \"white\", \"linecolor\": \"white\", \"ticks\": \"\"}, \"bgcolor\": \"#E5ECF6\", \"caxis\": {\"gridcolor\": \"white\", \"linecolor\": \"white\", \"ticks\": \"\"}}, \"title\": {\"x\": 0.05}, \"xaxis\": {\"automargin\": true, \"gridcolor\": \"white\", \"linecolor\": \"white\", \"ticks\": \"\", \"title\": {\"standoff\": 15}, \"zerolinecolor\": \"white\", \"zerolinewidth\": 2}, \"yaxis\": {\"automargin\": true, \"gridcolor\": \"white\", \"linecolor\": \"white\", \"ticks\": \"\", \"title\": {\"standoff\": 15}, \"zerolinecolor\": \"white\", \"zerolinewidth\": 2}}}, \"title\": {\"text\": \"Market Sellers, Average Price, Total Sale, and Count of Substance Sold\"}},\n",
              "                        {\"responsive\": true}\n",
              "                    ).then(function(){\n",
              "                            \n",
              "var gd = document.getElementById('ae4f8abd-a324-4cc7-aa31-0915db062fcc');\n",
              "var x = new MutationObserver(function (mutations, observer) {{\n",
              "        var display = window.getComputedStyle(gd).display;\n",
              "        if (!display || display === 'none') {{\n",
              "            console.log([gd, 'removed!']);\n",
              "            Plotly.purge(gd);\n",
              "            observer.disconnect();\n",
              "        }}\n",
              "}});\n",
              "\n",
              "// Listen for the removal of the full notebook cells\n",
              "var notebookContainer = gd.closest('#notebook-container');\n",
              "if (notebookContainer) {{\n",
              "    x.observe(notebookContainer, {childList: true});\n",
              "}}\n",
              "\n",
              "// Listen for the clearing of the current output cell\n",
              "var outputEl = gd.closest('.output');\n",
              "if (outputEl) {{\n",
              "    x.observe(outputEl, {childList: true});\n",
              "}}\n",
              "\n",
              "                        })\n",
              "                };\n",
              "                \n",
              "            </script>\n",
              "        </div>\n",
              "</body>\n",
              "</html>"
            ]
          },
          "metadata": {
            "tags": []
          }
        },
        {
          "output_type": "error",
          "ename": "NameError",
          "evalue": "ignored",
          "traceback": [
            "\u001b[0;31m---------------------------------------------------------------------------\u001b[0m",
            "\u001b[0;31mNameError\u001b[0m                                 Traceback (most recent call last)",
            "\u001b[0;32m<ipython-input-14-60c9b1b83e9f>\u001b[0m in \u001b[0;36m<module>\u001b[0;34m()\u001b[0m\n\u001b[1;32m      7\u001b[0m chart_studio.tools.set_credentials_file(username=username, api_key=api_key)'''\n\u001b[1;32m      8\u001b[0m \u001b[0;34m\u001b[0m\u001b[0m\n\u001b[0;32m----> 9\u001b[0;31m \u001b[0mpy\u001b[0m\u001b[0;34m.\u001b[0m\u001b[0mplot\u001b[0m\u001b[0;34m(\u001b[0m\u001b[0mfig\u001b[0m\u001b[0;34m,\u001b[0m \u001b[0mfilename\u001b[0m \u001b[0;34m=\u001b[0m \u001b[0;34m'seller_scatter'\u001b[0m\u001b[0;34m,\u001b[0m \u001b[0mauto_open\u001b[0m\u001b[0;34m=\u001b[0m\u001b[0;32mTrue\u001b[0m\u001b[0;34m)\u001b[0m\u001b[0;34m\u001b[0m\u001b[0;34m\u001b[0m\u001b[0m\n\u001b[0m",
            "\u001b[0;31mNameError\u001b[0m: name 'py' is not defined"
          ]
        }
      ]
    },
    {
      "cell_type": "markdown",
      "metadata": {
        "pycharm": {
          "name": "#%% md\n"
        },
        "id": "Xagprax8JIlU",
        "colab_type": "text"
      },
      "source": [
        "We've identified some seriously big players.  I wonder if any of them knew the market was going to die off?\n",
        "Why do have so many cloned adverts?  And we can we use average daily views to estimate traffic?"
      ]
    },
    {
      "cell_type": "code",
      "metadata": {
        "pycharm": {
          "name": "#%%\n"
        },
        "id": "IeIuVQkfJIlU",
        "colab_type": "code",
        "colab": {}
      },
      "source": [
        "seller_list = seller_list.dropna(axis=0)\n",
        "seller_list"
      ],
      "execution_count": 0,
      "outputs": []
    },
    {
      "cell_type": "code",
      "metadata": {
        "pycharm": {
          "name": "#%%\n"
        },
        "id": "P11RoDUKJIlX",
        "colab_type": "code",
        "colab": {}
      },
      "source": [
        "aggregated_total = all_data.copy()\n",
        "aggregated_clean = cleaned_data.copy()\n",
        "\n",
        "to_aggregate = [\"SALVIA DIVINORUM\", \"PCP AND ANALOGS\", \"MESCALINE\", \"Fentanyl\", \"GHB\",\"HEROIN\",\"LSD\",\"OPIUM\",\"PSILOCYBIN\",\"FLUNITRAZEPAM\"]\n",
        "aggregate_total_filter = aggregated_total[\"substance\"].isin(to_aggregate)\n",
        "aggregated_total.loc[aggregate_total_filter, \"substance\"]=\"other\"\n",
        "\n",
        "aggregate_clean_filter = aggregated_clean[\"substance\"].isin(to_aggregate)\n",
        "aggregated_clean.loc[aggregate_clean_filter, \"substance\"]=\"other\""
      ],
      "execution_count": 0,
      "outputs": []
    },
    {
      "cell_type": "markdown",
      "metadata": {
        "pycharm": {
          "name": "#%% md\n"
        },
        "id": "KDU53vwbJIlZ",
        "colab_type": "text"
      },
      "source": [
        "That is a lot of pills.\n"
      ]
    },
    {
      "cell_type": "code",
      "metadata": {
        "pycharm": {
          "name": "#%%\n"
        },
        "id": "BsIIs-kLJIlZ",
        "colab_type": "code",
        "colab": {}
      },
      "source": [
        "paired = sns.color_palette(\"Paired\", 12)\n",
        "with paired:\n",
        "    aggregated_clean.pivot_table(values=\"price\", index=\"date\", columns=\"substance\",aggfunc=len).plot.area(figsize=[15,15], title=\"DarkNet Market Substance Breakdown\")"
      ],
      "execution_count": 0,
      "outputs": []
    },
    {
      "cell_type": "code",
      "metadata": {
        "pycharm": {
          "name": "#%%\n"
        },
        "id": "GVsGhPJIJIlc",
        "colab_type": "code",
        "colab": {}
      },
      "source": [
        "#same thing but using plotly instead of matplotlib\n",
        "substances_breakdown = cleaned_data.groupby([\"date\", \"substance\"]).agg(\n",
        "    total_listings = (\"unique_ref\", len)\n",
        ")\n",
        "substances_breakdown = substances_breakdown.sort_values(by=[\"total_listings\"], ascending=True)\n",
        "substances_breakdown.reset_index(inplace=True)"
      ],
      "execution_count": 0,
      "outputs": []
    },
    {
      "cell_type": "code",
      "metadata": {
        "pycharm": {
          "name": "#%%\n"
        },
        "id": "up5XQ4c3JIle",
        "colab_type": "code",
        "colab": {}
      },
      "source": [
        "df = px.data.gapminder()\n",
        "fig = px.area(substances_breakdown, x=\"date\", y=\"total_listings\", color=\"substance\")\n",
        "fig.update_layout(title=\"Count of Advert by Substance\")\n",
        "fig.show()"
      ],
      "execution_count": 0,
      "outputs": []
    },
    {
      "cell_type": "markdown",
      "metadata": {
        "pycharm": {
          "name": "#%% md\n"
        },
        "id": "wswKhoSsJIlg",
        "colab_type": "text"
      },
      "source": [
        "Let's look at originating countries - where do the drugs come from and go to?"
      ]
    },
    {
      "cell_type": "code",
      "metadata": {
        "pycharm": {
          "name": "#%%\n"
        },
        "id": "R1cuQfd_JIlh",
        "colab_type": "code",
        "colab": {}
      },
      "source": [
        "all_data.pivot_table(values=\"unique_ref\", index=\"date\", columns=\"from\",aggfunc=len).plot.area(figsize=[15,15], title=\"Count of Advert by Originating Country\")"
      ],
      "execution_count": 0,
      "outputs": []
    },
    {
      "cell_type": "code",
      "metadata": {
        "pycharm": {
          "name": "#%%\n"
        },
        "id": "aw69PoRgJIlj",
        "colab_type": "code",
        "colab": {}
      },
      "source": [
        "originating_countries = all_data.groupby([\"from\",\"date\"]).agg(\n",
        "    count_of_advert = (\"unique_ref\", len)\n",
        ")\n",
        "originating_countries = originating_countries.sort_values(by=[\"count_of_advert\"], ascending=True)\n",
        "originating_countries = originating_countries.reset_index()\n",
        "list_of_countries = all_data[\"from\"].unique()"
      ],
      "execution_count": 0,
      "outputs": []
    },
    {
      "cell_type": "code",
      "metadata": {
        "pycharm": {
          "name": "#%%\n"
        },
        "id": "2Gal4mAjJIll",
        "colab_type": "code",
        "colab": {}
      },
      "source": [
        "#replicating using plotly\n",
        "df = px.data.gapminder()\n",
        "fig = px.area(originating_countries, x=\"date\", y=\"count_of_advert\", color=\"from\")\n",
        "fig.update_layout(title=\"Count of Advert by Originating Country\")\n",
        "fig.show()"
      ],
      "execution_count": 0,
      "outputs": []
    },
    {
      "cell_type": "code",
      "metadata": {
        "pycharm": {
          "name": "#%%\n"
        },
        "id": "iKRKqG3eJIln",
        "colab_type": "code",
        "colab": {}
      },
      "source": [
        "fig = make_subplots(rows=4, cols=3)\n",
        "x_loc=1\n",
        "y_loc=1\n",
        "originating_countries = originating_countries.sort_values(by=[\"date\"])\n",
        "\n",
        "for value in list_of_countries:\n",
        "    drug_name = originating_countries[\"from\"] == value\n",
        "    fig.add_trace(\n",
        "        go.Scatter(x=originating_countries[drug_name][\"date\"], y=originating_countries[drug_name][\"count_of_advert\"],\n",
        "    mode=\"lines\",\n",
        "    name=value)\n",
        "        , col=x_loc, row=y_loc)\n",
        "    x_loc +=1\n",
        "    if x_loc==4:\n",
        "        y_loc+=1\n",
        "        x_loc=1\n",
        "fig.update_layout(title=\"Number of Adverts by Originating Country\", width=800)\n",
        "fig.show()"
      ],
      "execution_count": 0,
      "outputs": []
    },
    {
      "cell_type": "markdown",
      "metadata": {
        "pycharm": {
          "name": "#%% md\n"
        },
        "id": "JYS4bm5RJIlp",
        "colab_type": "text"
      },
      "source": [
        "What about the breakdown of UK drugs?"
      ]
    },
    {
      "cell_type": "code",
      "metadata": {
        "pycharm": {
          "name": "#%%\n"
        },
        "id": "JRykcuNEJIlp",
        "colab_type": "code",
        "colab": {}
      },
      "source": [
        "from_uk = all_data[\"from\"] == \"GB\"\n",
        "to_uk =  all_data[\"to\"] == \"GB\"\n",
        "from_usa = all_data[\"from\"] == \"USA\""
      ],
      "execution_count": 0,
      "outputs": []
    },
    {
      "cell_type": "code",
      "metadata": {
        "pycharm": {
          "name": "#%%\n"
        },
        "id": "zk3s6TlcJIlr",
        "colab_type": "code",
        "colab": {}
      },
      "source": [
        "with paired:\n",
        "    aggregated_total[from_uk].pivot_table(values=\"price\", index=\"date\", columns=\"substance\",aggfunc=len).plot.area(figsize=[15,15], title=\"Adverts from the UK Substance Breakdown\")"
      ],
      "execution_count": 0,
      "outputs": []
    },
    {
      "cell_type": "code",
      "metadata": {
        "pycharm": {
          "name": "#%%\n"
        },
        "id": "1iynzpOLJIlt",
        "colab_type": "code",
        "colab": {}
      },
      "source": [
        "from_uk = cleaned_data[\"from\"] == \"GB\"\n",
        "uk_substances = cleaned_data[from_uk].groupby([\"date\", \"substance\"]).agg(\n",
        "    total_listings = (\"unique_ref\", len)\n",
        ")\n",
        "uk_substances= uk_substances.sort_values(by=\"total_listings\")\n",
        "uk_substances.reset_index(inplace=True)"
      ],
      "execution_count": 0,
      "outputs": []
    },
    {
      "cell_type": "code",
      "metadata": {
        "pycharm": {
          "name": "#%%\n"
        },
        "id": "5oJV7SfcJIlv",
        "colab_type": "code",
        "colab": {}
      },
      "source": [
        "df = px.data.gapminder()\n",
        "fig = px.area(uk_substances, x=\"date\", y=\"total_listings\", color=\"substance\")\n",
        "fig.update_layout(title=\"Count of Adverts Originating from UK, by Substance\")\n",
        "fig.show()\n"
      ],
      "execution_count": 0,
      "outputs": []
    },
    {
      "cell_type": "markdown",
      "metadata": {
        "pycharm": {
          "name": "#%% md\n"
        },
        "id": "0A87J5mYJIlx",
        "colab_type": "text"
      },
      "source": [
        "What about the US?"
      ]
    },
    {
      "cell_type": "code",
      "metadata": {
        "pycharm": {
          "name": "#%%\n"
        },
        "id": "Pim_AFDRJIly",
        "colab_type": "code",
        "colab": {}
      },
      "source": [
        "from_US = cleaned_data[\"from\"] == \"USA\"\n",
        "US_substances = cleaned_data[from_US].groupby([\"date\", \"substance\"]).agg(\n",
        "    total_listings = (\"unique_ref\", len)\n",
        ")\n",
        "US_substances = US_substances.sort_values(by=[\"total_listings\"], ascending=True)\n",
        "US_substances.reset_index(inplace=True)\n",
        "\n",
        "from_NL = cleaned_data[\"from\"] == \"NL\"\n",
        "NL_substances = cleaned_data[from_NL].groupby([\"date\", \"substance\"]).agg(\n",
        "    total_listings = (\"unique_ref\", len)\n",
        ")\n",
        "NL_substances = US_substances.sort_values(by=[\"total_listings\"], ascending=True)\n",
        "NL_substances.reset_index(inplace=True)\n",
        "\n",
        "from_DE = cleaned_data[\"from\"] == \"DE\"\n",
        "DE_substances = cleaned_data[from_DE].groupby([\"date\", \"substance\"]).agg(\n",
        "    total_listings = (\"unique_ref\", len)\n",
        ")\n",
        "DE_substances = DE_substances.sort_values(by=[\"total_listings\"], ascending=True)\n",
        "DE_substances.reset_index(inplace=True)\n"
      ],
      "execution_count": 0,
      "outputs": []
    },
    {
      "cell_type": "code",
      "metadata": {
        "pycharm": {
          "name": "#%%\n"
        },
        "id": "x0LgoNnbJIlz",
        "colab_type": "code",
        "colab": {}
      },
      "source": [
        "df = px.data.gapminder()\n",
        "fig = px.area(US_substances, x=\"date\", y=\"total_listings\", color=\"substance\")\n",
        "fig.update_layout(title=\"Count of Adverts Originating from US, by Substance\")\n",
        "fig.show()"
      ],
      "execution_count": 0,
      "outputs": []
    },
    {
      "cell_type": "code",
      "metadata": {
        "pycharm": {
          "name": "#%%\n"
        },
        "id": "uqUrQnokJIl5",
        "colab_type": "code",
        "colab": {}
      },
      "source": [
        "df = px.data.gapminder()\n",
        "fig = px.area(NL_substances, x=\"date\", y=\"total_listings\", color=\"substance\")\n",
        "fig.update_layout(title=\"Count of Adverts Originating from Netherlands, by Substance\")\n",
        "fig.show()"
      ],
      "execution_count": 0,
      "outputs": []
    },
    {
      "cell_type": "code",
      "metadata": {
        "pycharm": {
          "name": "#%%\n"
        },
        "id": "E8AEGs0TJIl7",
        "colab_type": "code",
        "colab": {}
      },
      "source": [
        "df = px.data.gapminder()\n",
        "fig = px.area(DE_substances, x=\"date\", y=\"total_listings\", color=\"substance\")\n",
        "fig.update_layout(title=\"Count of Adverts Originating from Germany, by Substance\")\n",
        "fig.show()\n"
      ],
      "execution_count": 0,
      "outputs": []
    },
    {
      "cell_type": "code",
      "metadata": {
        "pycharm": {
          "name": "#%%\n"
        },
        "id": "VnTPaO2GJIl9",
        "colab_type": "code",
        "colab": {}
      },
      "source": [
        "with paired:\n",
        "    aggregated_total[from_usa].pivot_table(values=\"price\", index=\"date\", columns=\"substance\",aggfunc=len).plot.area(figsize=[15,15], title=\"Adverts from the USA Substance Breakdown\")"
      ],
      "execution_count": 0,
      "outputs": []
    },
    {
      "cell_type": "code",
      "metadata": {
        "pycharm": {
          "name": "#%%\n"
        },
        "id": "zLhOUPJsJImA",
        "colab_type": "code",
        "colab": {}
      },
      "source": [
        "drug_df = clean_no_duplicates.groupby([\"substance\"]).agg(\n",
        "    mean_advert_price = (\"price\", np.mean),\n",
        "    mean_price_per_gram = (\"price per gram\", np.mean),\n",
        "    mean_price_per_pill = (\"price per pill\", np.mean),\n",
        "    median_advert_price = (\"price\", np.median),\n",
        "    median_price_per_gram = (\"price per gram\", np.median),\n",
        "    median_price_per_pill = (\"price per pill\", np.median),\n",
        "    grams_per_sale = (\"weight in g\", sum),\n",
        "    count_of_ads = (\"unique_ref\", len),\n",
        "    count_of_cloned = (\"cloned\", sum))"
      ],
      "execution_count": 0,
      "outputs": []
    },
    {
      "cell_type": "code",
      "metadata": {
        "pycharm": {
          "name": "#%%\n"
        },
        "id": "Or7qoeQiJImC",
        "colab_type": "code",
        "colab": {}
      },
      "source": [
        "drug_df\n"
      ],
      "execution_count": 0,
      "outputs": []
    },
    {
      "cell_type": "code",
      "metadata": {
        "pycharm": {
          "name": "#%%\n"
        },
        "id": "r93TtvGHJImE",
        "colab_type": "code",
        "colab": {}
      },
      "source": [
        "from plotly.subplots import make_subplots\n",
        "import plotly.graph_objects as go\n",
        "\n",
        "list_of_substances = cleaned_data[\"substance\"].unique()\n",
        "fig = make_subplots(rows=4, cols=4, subplot_titles=list_of_substances)\n",
        "x_loc=1\n",
        "y_loc=1\n",
        "\n",
        "for value in list_of_substances:\n",
        "    drug_name = cleaned_data[\"substance\"] == value\n",
        "    fig.add_trace(\n",
        "        go.Box(y=clean_no_duplicates[drug_name][\"price per gram\"]),\n",
        "        row=x_loc, col=y_loc\n",
        "    )\n",
        "    x_loc +=1\n",
        "    if x_loc==5:\n",
        "        y_loc+=1\n",
        "        x_loc=1\n",
        "\n",
        "fig.show()"
      ],
      "execution_count": 0,
      "outputs": []
    },
    {
      "cell_type": "markdown",
      "metadata": {
        "pycharm": {
          "name": "#%% md\n"
        },
        "id": "SfUo_gndJImH",
        "colab_type": "text"
      },
      "source": [
        "The amount of outliers we have is clearly huge.  Let's run a function to try and remove those and replicate that work again"
      ]
    },
    {
      "cell_type": "code",
      "metadata": {
        "pycharm": {
          "name": "#%%\n"
        },
        "id": "JnfeRjDCJImH",
        "colab_type": "code",
        "colab": {}
      },
      "source": [
        "# lets remove price outliers\n",
        "\n",
        "from scipy.stats import zscore\n",
        "\n",
        "list_of_filtered = []\n",
        "for value in list_of_substances:\n",
        "    drug_name = cleaned_data[\"substance\"] == value\n",
        "    drug_df = clean_no_duplicates[drug_name]\n",
        "    drug_df[\"z score\"] = zscore(drug_df[\"price\"])\n",
        "    z_score_filter = abs(drug_df[\"z score\"]) <3\n",
        "    new_df = drug_df[z_score_filter]\n",
        "    list_of_filtered.append(new_df)\n",
        "\n",
        "clean_no_outliers = pd.concat(list_of_filtered)"
      ],
      "execution_count": 0,
      "outputs": []
    },
    {
      "cell_type": "code",
      "metadata": {
        "pycharm": {
          "name": "#%%\n"
        },
        "id": "eyfkX3VBJImJ",
        "colab_type": "code",
        "colab": {}
      },
      "source": [
        "list_of_substances = cleaned_data[\"substance\"].unique()\n",
        "fig = make_subplots(rows=4, cols=4, subplot_titles=list_of_substances)\n",
        "x_loc=1\n",
        "y_loc=1\n",
        "\n",
        "for value in list_of_substances:\n",
        "    drug_name = clean_no_outliers[\"substance\"] == value\n",
        "    fig.add_trace(\n",
        "        go.Box(y=clean_no_outliers[drug_name][\"price\"], boxpoints=False),\n",
        "        row=x_loc, col=y_loc\n",
        "    )\n",
        "    x_loc +=1\n",
        "    if x_loc==5:\n",
        "        y_loc+=1\n",
        "        x_loc=1\n",
        "\n",
        "fig.update_layout(showlegend=False)\n",
        "fig.show()\n"
      ],
      "execution_count": 0,
      "outputs": []
    },
    {
      "cell_type": "markdown",
      "metadata": {
        "pycharm": {
          "name": "#%% md\n"
        },
        "id": "_X7uM1XTJImM",
        "colab_type": "text"
      },
      "source": [
        "Let's try only adverts that have actually made a sale.\n"
      ]
    },
    {
      "cell_type": "code",
      "metadata": {
        "pycharm": {
          "name": "#%%\n"
        },
        "id": "CZ7JRDkVJImM",
        "colab_type": "code",
        "colab": {}
      },
      "source": [
        "sale_filter = cleaned_data[\"Extracted sold\"] > 0\n",
        "\n",
        "made_sale = cleaned_data[sale_filter]\n",
        "list_of_substances = made_sale[\"substance\"].unique()\n",
        "\n",
        "fig = make_subplots(rows=2, cols=7)\n",
        "x_loc=1\n",
        "y_loc=1\n",
        "\n",
        "for value in list_of_substances:\n",
        "    drug_name = made_sale[\"substance\"] == value\n",
        "    fig.add_trace(\n",
        "        go.Box(y=made_sale[drug_name][\"price\"], boxpoints=False, name=value),\n",
        "        row=x_loc, col=y_loc\n",
        "    )\n",
        "    y_loc +=1\n",
        "    if y_loc==8:\n",
        "        x_loc+=1\n",
        "        y_loc=1\n",
        "\n",
        "fig.update_layout(title=\"Average Price of Adverts with at least 1 Sale, by Substance\", showlegend=False, width=1000)\n",
        "fig.show()"
      ],
      "execution_count": 0,
      "outputs": []
    },
    {
      "cell_type": "markdown",
      "metadata": {
        "id": "Z5mcFvV1JImO",
        "colab_type": "text"
      },
      "source": [
        "Finally, let's replicate that using estimated Price per Gram"
      ]
    },
    {
      "cell_type": "code",
      "metadata": {
        "pycharm": {
          "name": "#%%\n"
        },
        "id": "qTO0_rRmJImP",
        "colab_type": "code",
        "colab": {}
      },
      "source": [
        "sale_filter = cleaned_data[\"Extracted sold\"] > 0\n",
        "\n",
        "made_sale = cleaned_data[sale_filter]\n",
        "list_of_substances = made_sale[\"substance\"].unique()\n",
        "\n",
        "fig = make_subplots(rows=2, cols=7)\n",
        "x_loc=1\n",
        "y_loc=1\n",
        "\n",
        "for value in list_of_substances:\n",
        "    drug_name = made_sale[\"substance\"] == value\n",
        "    fig.add_trace(\n",
        "        go.Box(y=made_sale[drug_name][\"price per gram\"], boxpoints=False, name=value),\n",
        "        row=x_loc, col=y_loc\n",
        "    )\n",
        "    y_loc +=1\n",
        "    if y_loc==8:\n",
        "        x_loc+=1\n",
        "        y_loc=1\n",
        "\n",
        "fig.update_layout(title=\"Average Price per Gram of Adverts with at least 1 Sale, by Substance\", showlegend=False, width=1000)\n",
        "fig.show()"
      ],
      "execution_count": 0,
      "outputs": []
    },
    {
      "cell_type": "code",
      "metadata": {
        "pycharm": {
          "name": "#%%\n"
        },
        "id": "K4NvxECBJImR",
        "colab_type": "code",
        "colab": {}
      },
      "source": [
        "fig, axs = plt.subplots(4, 4)\n",
        "fig.subplots_adjust(wspace=0.5,hspace=1)\n",
        "fig.suptitle(\"Mean Advert Price\")\n",
        "\n",
        "x=0\n",
        "y=0\n",
        "for value in list_of_substances:\n",
        "    drug_name = cleaned_data[\"substance\"] == value\n",
        "    cleaned_data[drug_name].pivot_table(values=\"price\", index=\"date\",aggfunc=np.mean).plot(ax=axs[x,y], legend=False, figsize=[8,8])\n",
        "    axs[x,y].set_title(value)\n",
        "    x +=1\n",
        "    if x==4:\n",
        "        y+=1\n",
        "        x=0"
      ],
      "execution_count": 0,
      "outputs": []
    },
    {
      "cell_type": "markdown",
      "metadata": {
        "id": "Z6jqS1RKJImX",
        "colab_type": "text"
      },
      "source": [
        "Let's replicate that, but using my estimated price per gram and the median instead"
      ]
    },
    {
      "cell_type": "code",
      "metadata": {
        "pycharm": {
          "name": "#%%\n"
        },
        "id": "fbGPnTUyJImX",
        "colab_type": "code",
        "colab": {}
      },
      "source": [
        "list_of_substances = cleaned_data[\"substance\"].unique()\n",
        "fig, axs = plt.subplots(4, 4)\n",
        "fig.subplots_adjust(wspace=0.5,hspace=1)\n",
        "fig.suptitle(\"Median Advert Price per Gram\")\n",
        "\n",
        "x=0\n",
        "y=0\n",
        "for value in list_of_substances:\n",
        "    drug_name = cleaned_data[\"substance\"] == value\n",
        "    cleaned_data[drug_name].pivot_table(values=\"price per gram\", index=\"date\",aggfunc=np.median).plot(ax=axs[x,y], legend=False, figsize=[8,8])\n",
        "    axs[x,y].set_title(value)\n",
        "    x +=1\n",
        "    if x==4:\n",
        "        y+=1\n",
        "        x=0"
      ],
      "execution_count": 0,
      "outputs": []
    }
  ]
}